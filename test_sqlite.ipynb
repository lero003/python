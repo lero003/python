{
  "nbformat": 4,
  "nbformat_minor": 0,
  "metadata": {
    "colab": {
      "name": "test_sqlite.ipynb",
      "provenance": [],
      "mount_file_id": "1194TcmZU9wf4bcHTMX7163Bk86T6VTbJ",
      "authorship_tag": "ABX9TyMwfBgqkwworIJrmkvRku5g",
      "include_colab_link": true
    },
    "kernelspec": {
      "name": "python3",
      "display_name": "Python 3"
    }
  },
  "cells": [
    {
      "cell_type": "markdown",
      "metadata": {
        "id": "view-in-github",
        "colab_type": "text"
      },
      "source": [
        "<a href=\"https://colab.research.google.com/github/lero003/python/blob/master/test_sqlite.ipynb\" target=\"_parent\"><img src=\"https://colab.research.google.com/assets/colab-badge.svg\" alt=\"Open In Colab\"/></a>"
      ]
    },
    {
      "cell_type": "code",
      "metadata": {
        "id": "Vs8xXbF8Tmqs",
        "colab_type": "code",
        "colab": {}
      },
      "source": [
        "import sqlite3\n",
        "import pandas as pd"
      ],
      "execution_count": null,
      "outputs": []
    },
    {
      "cell_type": "code",
      "metadata": {
        "id": "e65xgEWtUMmN",
        "colab_type": "code",
        "colab": {}
      },
      "source": [
        "df = pd.read_csv(\"/content/drive/My Drive/python_test/test01.csv\")"
      ],
      "execution_count": null,
      "outputs": []
    },
    {
      "cell_type": "code",
      "metadata": {
        "id": "GjjygYIZUja3",
        "colab_type": "code",
        "colab": {
          "base_uri": "https://localhost:8080/",
          "height": 824
        },
        "outputId": "490a14c3-9aaf-47f3-cff0-0df496516696"
      },
      "source": [
        "df"
      ],
      "execution_count": null,
      "outputs": [
        {
          "output_type": "execute_result",
          "data": {
            "text/html": [
              "<div>\n",
              "<style scoped>\n",
              "    .dataframe tbody tr th:only-of-type {\n",
              "        vertical-align: middle;\n",
              "    }\n",
              "\n",
              "    .dataframe tbody tr th {\n",
              "        vertical-align: top;\n",
              "    }\n",
              "\n",
              "    .dataframe thead th {\n",
              "        text-align: right;\n",
              "    }\n",
              "</style>\n",
              "<table border=\"1\" class=\"dataframe\">\n",
              "  <thead>\n",
              "    <tr style=\"text-align: right;\">\n",
              "      <th></th>\n",
              "      <th>Unnamed: 0</th>\n",
              "      <th>日付</th>\n",
              "      <th>始値</th>\n",
              "      <th>高値</th>\n",
              "      <th>安値</th>\n",
              "      <th>終値</th>\n",
              "      <th>売買高</th>\n",
              "      <th>修正後終値</th>\n",
              "    </tr>\n",
              "  </thead>\n",
              "  <tbody>\n",
              "    <tr>\n",
              "      <th>0</th>\n",
              "      <td>0</td>\n",
              "      <td>6/10（水）</td>\n",
              "      <td>7061</td>\n",
              "      <td>7140</td>\n",
              "      <td>7011</td>\n",
              "      <td>7094</td>\n",
              "      <td>4770800</td>\n",
              "      <td>7094.0</td>\n",
              "    </tr>\n",
              "    <tr>\n",
              "      <th>1</th>\n",
              "      <td>1</td>\n",
              "      <td>6/9（火）</td>\n",
              "      <td>7100</td>\n",
              "      <td>7129</td>\n",
              "      <td>7020</td>\n",
              "      <td>7121</td>\n",
              "      <td>5846500</td>\n",
              "      <td>7121.0</td>\n",
              "    </tr>\n",
              "    <tr>\n",
              "      <th>2</th>\n",
              "      <td>2</td>\n",
              "      <td>6/8（月）</td>\n",
              "      <td>7160</td>\n",
              "      <td>7174</td>\n",
              "      <td>7106</td>\n",
              "      <td>7167</td>\n",
              "      <td>6342100</td>\n",
              "      <td>7167.0</td>\n",
              "    </tr>\n",
              "    <tr>\n",
              "      <th>3</th>\n",
              "      <td>3</td>\n",
              "      <td>6/5（金）</td>\n",
              "      <td>6946</td>\n",
              "      <td>7067</td>\n",
              "      <td>6940</td>\n",
              "      <td>7067</td>\n",
              "      <td>5365100</td>\n",
              "      <td>7067.0</td>\n",
              "    </tr>\n",
              "    <tr>\n",
              "      <th>4</th>\n",
              "      <td>4</td>\n",
              "      <td>6/4（木）</td>\n",
              "      <td>7007</td>\n",
              "      <td>7100</td>\n",
              "      <td>6933</td>\n",
              "      <td>6974</td>\n",
              "      <td>7860000</td>\n",
              "      <td>6974.0</td>\n",
              "    </tr>\n",
              "    <tr>\n",
              "      <th>5</th>\n",
              "      <td>5</td>\n",
              "      <td>6/3（水）</td>\n",
              "      <td>6900</td>\n",
              "      <td>6937</td>\n",
              "      <td>6860</td>\n",
              "      <td>6915</td>\n",
              "      <td>6444300</td>\n",
              "      <td>6915.0</td>\n",
              "    </tr>\n",
              "    <tr>\n",
              "      <th>6</th>\n",
              "      <td>6</td>\n",
              "      <td>6/2（火）</td>\n",
              "      <td>6785</td>\n",
              "      <td>6865</td>\n",
              "      <td>6768</td>\n",
              "      <td>6774</td>\n",
              "      <td>5962700</td>\n",
              "      <td>6774.0</td>\n",
              "    </tr>\n",
              "    <tr>\n",
              "      <th>7</th>\n",
              "      <td>7</td>\n",
              "      <td>6/1（月）</td>\n",
              "      <td>6785</td>\n",
              "      <td>6820</td>\n",
              "      <td>6685</td>\n",
              "      <td>6720</td>\n",
              "      <td>4506700</td>\n",
              "      <td>6720.0</td>\n",
              "    </tr>\n",
              "    <tr>\n",
              "      <th>8</th>\n",
              "      <td>8</td>\n",
              "      <td>5/29（金）</td>\n",
              "      <td>6900</td>\n",
              "      <td>6945</td>\n",
              "      <td>6755</td>\n",
              "      <td>6755</td>\n",
              "      <td>21832300</td>\n",
              "      <td>6755.0</td>\n",
              "    </tr>\n",
              "    <tr>\n",
              "      <th>9</th>\n",
              "      <td>9</td>\n",
              "      <td>5/28（木）</td>\n",
              "      <td>6839</td>\n",
              "      <td>6980</td>\n",
              "      <td>6826</td>\n",
              "      <td>6973</td>\n",
              "      <td>9734100</td>\n",
              "      <td>6973.0</td>\n",
              "    </tr>\n",
              "    <tr>\n",
              "      <th>10</th>\n",
              "      <td>10</td>\n",
              "      <td>5/27（水）</td>\n",
              "      <td>6640</td>\n",
              "      <td>6775</td>\n",
              "      <td>6592</td>\n",
              "      <td>6740</td>\n",
              "      <td>7699300</td>\n",
              "      <td>6740.0</td>\n",
              "    </tr>\n",
              "    <tr>\n",
              "      <th>11</th>\n",
              "      <td>11</td>\n",
              "      <td>5/26（火）</td>\n",
              "      <td>6440</td>\n",
              "      <td>6680</td>\n",
              "      <td>6426</td>\n",
              "      <td>6649</td>\n",
              "      <td>7740600</td>\n",
              "      <td>6649.0</td>\n",
              "    </tr>\n",
              "    <tr>\n",
              "      <th>12</th>\n",
              "      <td>12</td>\n",
              "      <td>5/25（月）</td>\n",
              "      <td>6385</td>\n",
              "      <td>6395</td>\n",
              "      <td>6336</td>\n",
              "      <td>6383</td>\n",
              "      <td>3070300</td>\n",
              "      <td>6383.0</td>\n",
              "    </tr>\n",
              "    <tr>\n",
              "      <th>13</th>\n",
              "      <td>13</td>\n",
              "      <td>5/22（金）</td>\n",
              "      <td>6420</td>\n",
              "      <td>6436</td>\n",
              "      <td>6280</td>\n",
              "      <td>6289</td>\n",
              "      <td>4653700</td>\n",
              "      <td>6289.0</td>\n",
              "    </tr>\n",
              "    <tr>\n",
              "      <th>14</th>\n",
              "      <td>14</td>\n",
              "      <td>5/21（木）</td>\n",
              "      <td>6441</td>\n",
              "      <td>6445</td>\n",
              "      <td>6354</td>\n",
              "      <td>6362</td>\n",
              "      <td>3527600</td>\n",
              "      <td>6362.0</td>\n",
              "    </tr>\n",
              "    <tr>\n",
              "      <th>15</th>\n",
              "      <td>15</td>\n",
              "      <td>5/20（水）</td>\n",
              "      <td>6402</td>\n",
              "      <td>6431</td>\n",
              "      <td>6387</td>\n",
              "      <td>6415</td>\n",
              "      <td>4274100</td>\n",
              "      <td>6415.0</td>\n",
              "    </tr>\n",
              "    <tr>\n",
              "      <th>16</th>\n",
              "      <td>16</td>\n",
              "      <td>5/19（火）</td>\n",
              "      <td>6346</td>\n",
              "      <td>6462</td>\n",
              "      <td>6338</td>\n",
              "      <td>6431</td>\n",
              "      <td>7019000</td>\n",
              "      <td>6431.0</td>\n",
              "    </tr>\n",
              "    <tr>\n",
              "      <th>17</th>\n",
              "      <td>17</td>\n",
              "      <td>5/18（月）</td>\n",
              "      <td>6280</td>\n",
              "      <td>6300</td>\n",
              "      <td>6248</td>\n",
              "      <td>6257</td>\n",
              "      <td>4345000</td>\n",
              "      <td>6257.0</td>\n",
              "    </tr>\n",
              "    <tr>\n",
              "      <th>18</th>\n",
              "      <td>18</td>\n",
              "      <td>5/15（金）</td>\n",
              "      <td>6300</td>\n",
              "      <td>6320</td>\n",
              "      <td>6208</td>\n",
              "      <td>6249</td>\n",
              "      <td>5478600</td>\n",
              "      <td>6249.0</td>\n",
              "    </tr>\n",
              "    <tr>\n",
              "      <th>19</th>\n",
              "      <td>19</td>\n",
              "      <td>5/14（木）</td>\n",
              "      <td>6300</td>\n",
              "      <td>6326</td>\n",
              "      <td>6243</td>\n",
              "      <td>6243</td>\n",
              "      <td>6494600</td>\n",
              "      <td>6243.0</td>\n",
              "    </tr>\n",
              "    <tr>\n",
              "      <th>20</th>\n",
              "      <td>20</td>\n",
              "      <td>5/13（水）</td>\n",
              "      <td>6412</td>\n",
              "      <td>6460</td>\n",
              "      <td>6372</td>\n",
              "      <td>6384</td>\n",
              "      <td>8131500</td>\n",
              "      <td>6384.0</td>\n",
              "    </tr>\n",
              "    <tr>\n",
              "      <th>21</th>\n",
              "      <td>21</td>\n",
              "      <td>5/12（火）</td>\n",
              "      <td>6610</td>\n",
              "      <td>6655</td>\n",
              "      <td>6485</td>\n",
              "      <td>6527</td>\n",
              "      <td>7809400</td>\n",
              "      <td>6527.0</td>\n",
              "    </tr>\n",
              "    <tr>\n",
              "      <th>22</th>\n",
              "      <td>22</td>\n",
              "      <td>5/11（月）</td>\n",
              "      <td>6620</td>\n",
              "      <td>6675</td>\n",
              "      <td>6582</td>\n",
              "      <td>6658</td>\n",
              "      <td>5180000</td>\n",
              "      <td>6658.0</td>\n",
              "    </tr>\n",
              "    <tr>\n",
              "      <th>23</th>\n",
              "      <td>23</td>\n",
              "      <td>5/8（金）</td>\n",
              "      <td>6448</td>\n",
              "      <td>6511</td>\n",
              "      <td>6421</td>\n",
              "      <td>6492</td>\n",
              "      <td>5449200</td>\n",
              "      <td>6492.0</td>\n",
              "    </tr>\n",
              "    <tr>\n",
              "      <th>24</th>\n",
              "      <td>24</td>\n",
              "      <td>5/7（木）</td>\n",
              "      <td>6382</td>\n",
              "      <td>6457</td>\n",
              "      <td>6373</td>\n",
              "      <td>6414</td>\n",
              "      <td>5930400</td>\n",
              "      <td>6414.0</td>\n",
              "    </tr>\n",
              "  </tbody>\n",
              "</table>\n",
              "</div>"
            ],
            "text/plain": [
              "    Unnamed: 0       日付    始値    高値    安値    終値       売買高   修正後終値\n",
              "0            0  6/10（水）  7061  7140  7011  7094   4770800  7094.0\n",
              "1            1   6/9（火）  7100  7129  7020  7121   5846500  7121.0\n",
              "2            2   6/8（月）  7160  7174  7106  7167   6342100  7167.0\n",
              "3            3   6/5（金）  6946  7067  6940  7067   5365100  7067.0\n",
              "4            4   6/4（木）  7007  7100  6933  6974   7860000  6974.0\n",
              "5            5   6/3（水）  6900  6937  6860  6915   6444300  6915.0\n",
              "6            6   6/2（火）  6785  6865  6768  6774   5962700  6774.0\n",
              "7            7   6/1（月）  6785  6820  6685  6720   4506700  6720.0\n",
              "8            8  5/29（金）  6900  6945  6755  6755  21832300  6755.0\n",
              "9            9  5/28（木）  6839  6980  6826  6973   9734100  6973.0\n",
              "10          10  5/27（水）  6640  6775  6592  6740   7699300  6740.0\n",
              "11          11  5/26（火）  6440  6680  6426  6649   7740600  6649.0\n",
              "12          12  5/25（月）  6385  6395  6336  6383   3070300  6383.0\n",
              "13          13  5/22（金）  6420  6436  6280  6289   4653700  6289.0\n",
              "14          14  5/21（木）  6441  6445  6354  6362   3527600  6362.0\n",
              "15          15  5/20（水）  6402  6431  6387  6415   4274100  6415.0\n",
              "16          16  5/19（火）  6346  6462  6338  6431   7019000  6431.0\n",
              "17          17  5/18（月）  6280  6300  6248  6257   4345000  6257.0\n",
              "18          18  5/15（金）  6300  6320  6208  6249   5478600  6249.0\n",
              "19          19  5/14（木）  6300  6326  6243  6243   6494600  6243.0\n",
              "20          20  5/13（水）  6412  6460  6372  6384   8131500  6384.0\n",
              "21          21  5/12（火）  6610  6655  6485  6527   7809400  6527.0\n",
              "22          22  5/11（月）  6620  6675  6582  6658   5180000  6658.0\n",
              "23          23   5/8（金）  6448  6511  6421  6492   5449200  6492.0\n",
              "24          24   5/7（木）  6382  6457  6373  6414   5930400  6414.0"
            ]
          },
          "metadata": {
            "tags": []
          },
          "execution_count": 4
        }
      ]
    },
    {
      "cell_type": "code",
      "metadata": {
        "id": "DNecmid6UlZG",
        "colab_type": "code",
        "colab": {
          "base_uri": "https://localhost:8080/",
          "height": 204
        },
        "outputId": "603c3982-d263-4a4e-8215-97b2c0c68eb3"
      },
      "source": [
        "df.head()"
      ],
      "execution_count": null,
      "outputs": [
        {
          "output_type": "execute_result",
          "data": {
            "text/html": [
              "<div>\n",
              "<style scoped>\n",
              "    .dataframe tbody tr th:only-of-type {\n",
              "        vertical-align: middle;\n",
              "    }\n",
              "\n",
              "    .dataframe tbody tr th {\n",
              "        vertical-align: top;\n",
              "    }\n",
              "\n",
              "    .dataframe thead th {\n",
              "        text-align: right;\n",
              "    }\n",
              "</style>\n",
              "<table border=\"1\" class=\"dataframe\">\n",
              "  <thead>\n",
              "    <tr style=\"text-align: right;\">\n",
              "      <th></th>\n",
              "      <th>Unnamed: 0</th>\n",
              "      <th>日付</th>\n",
              "      <th>始値</th>\n",
              "      <th>高値</th>\n",
              "      <th>安値</th>\n",
              "      <th>終値</th>\n",
              "      <th>売買高</th>\n",
              "      <th>修正後終値</th>\n",
              "    </tr>\n",
              "  </thead>\n",
              "  <tbody>\n",
              "    <tr>\n",
              "      <th>0</th>\n",
              "      <td>0</td>\n",
              "      <td>6/10（水）</td>\n",
              "      <td>7061</td>\n",
              "      <td>7140</td>\n",
              "      <td>7011</td>\n",
              "      <td>7094</td>\n",
              "      <td>4770800</td>\n",
              "      <td>7094.0</td>\n",
              "    </tr>\n",
              "    <tr>\n",
              "      <th>1</th>\n",
              "      <td>1</td>\n",
              "      <td>6/9（火）</td>\n",
              "      <td>7100</td>\n",
              "      <td>7129</td>\n",
              "      <td>7020</td>\n",
              "      <td>7121</td>\n",
              "      <td>5846500</td>\n",
              "      <td>7121.0</td>\n",
              "    </tr>\n",
              "    <tr>\n",
              "      <th>2</th>\n",
              "      <td>2</td>\n",
              "      <td>6/8（月）</td>\n",
              "      <td>7160</td>\n",
              "      <td>7174</td>\n",
              "      <td>7106</td>\n",
              "      <td>7167</td>\n",
              "      <td>6342100</td>\n",
              "      <td>7167.0</td>\n",
              "    </tr>\n",
              "    <tr>\n",
              "      <th>3</th>\n",
              "      <td>3</td>\n",
              "      <td>6/5（金）</td>\n",
              "      <td>6946</td>\n",
              "      <td>7067</td>\n",
              "      <td>6940</td>\n",
              "      <td>7067</td>\n",
              "      <td>5365100</td>\n",
              "      <td>7067.0</td>\n",
              "    </tr>\n",
              "    <tr>\n",
              "      <th>4</th>\n",
              "      <td>4</td>\n",
              "      <td>6/4（木）</td>\n",
              "      <td>7007</td>\n",
              "      <td>7100</td>\n",
              "      <td>6933</td>\n",
              "      <td>6974</td>\n",
              "      <td>7860000</td>\n",
              "      <td>6974.0</td>\n",
              "    </tr>\n",
              "  </tbody>\n",
              "</table>\n",
              "</div>"
            ],
            "text/plain": [
              "   Unnamed: 0       日付    始値    高値    安値    終値      売買高   修正後終値\n",
              "0           0  6/10（水）  7061  7140  7011  7094  4770800  7094.0\n",
              "1           1   6/9（火）  7100  7129  7020  7121  5846500  7121.0\n",
              "2           2   6/8（月）  7160  7174  7106  7167  6342100  7167.0\n",
              "3           3   6/5（金）  6946  7067  6940  7067  5365100  7067.0\n",
              "4           4   6/4（木）  7007  7100  6933  6974  7860000  6974.0"
            ]
          },
          "metadata": {
            "tags": []
          },
          "execution_count": 5
        }
      ]
    },
    {
      "cell_type": "code",
      "metadata": {
        "id": "L_jDGhc9Uqlc",
        "colab_type": "code",
        "colab": {}
      },
      "source": [
        "db_name = 'sample.db'\n",
        "conn = sqlite3.connect(db_name)"
      ],
      "execution_count": null,
      "outputs": []
    },
    {
      "cell_type": "code",
      "metadata": {
        "id": "C9hrxu7hU6TX",
        "colab_type": "code",
        "colab": {
          "base_uri": "https://localhost:8080/",
          "height": 34
        },
        "outputId": "fd1d4234-77f3-4938-a9dc-7e6eb3215069"
      },
      "source": [
        "conn"
      ],
      "execution_count": null,
      "outputs": [
        {
          "output_type": "execute_result",
          "data": {
            "text/plain": [
              "<sqlite3.Connection at 0x7fe8877448f0>"
            ]
          },
          "metadata": {
            "tags": []
          },
          "execution_count": 7
        }
      ]
    },
    {
      "cell_type": "code",
      "metadata": {
        "id": "Z6hSbpQlVCtP",
        "colab_type": "code",
        "colab": {
          "base_uri": "https://localhost:8080/",
          "height": 71
        },
        "outputId": "11aeb043-9ffe-4c9f-eb2e-33b7fa6d77ae"
      },
      "source": [
        "df.to_sql('human',conn,if_exists='replace')"
      ],
      "execution_count": null,
      "outputs": [
        {
          "output_type": "stream",
          "text": [
            "/usr/local/lib/python3.6/dist-packages/pandas/core/generic.py:2663: UserWarning: The spaces in these column names will not be changed. In pandas versions < 0.14, spaces were converted to underscores.\n",
            "  method=method,\n"
          ],
          "name": "stderr"
        }
      ]
    },
    {
      "cell_type": "code",
      "metadata": {
        "id": "ay9hWFYZVa2Z",
        "colab_type": "code",
        "colab": {}
      },
      "source": [
        "c = conn.cursor()"
      ],
      "execution_count": null,
      "outputs": []
    },
    {
      "cell_type": "code",
      "metadata": {
        "id": "l_DW1uUUVrws",
        "colab_type": "code",
        "colab": {}
      },
      "source": [
        "query = 'SELECT * FROM human'"
      ],
      "execution_count": null,
      "outputs": []
    },
    {
      "cell_type": "code",
      "metadata": {
        "id": "7fXUqTPHV1vi",
        "colab_type": "code",
        "colab": {
          "base_uri": "https://localhost:8080/",
          "height": 34
        },
        "outputId": "20b90315-39d9-40e3-ced4-6c3b985b77fc"
      },
      "source": [
        "c.execute(query)"
      ],
      "execution_count": null,
      "outputs": [
        {
          "output_type": "execute_result",
          "data": {
            "text/plain": [
              "<sqlite3.Cursor at 0x7fe886b46730>"
            ]
          },
          "metadata": {
            "tags": []
          },
          "execution_count": 11
        }
      ]
    },
    {
      "cell_type": "code",
      "metadata": {
        "id": "kcikZtW0V-QB",
        "colab_type": "code",
        "colab": {
          "base_uri": "https://localhost:8080/",
          "height": 34
        },
        "outputId": "3e8b0363-2fe9-41b0-e1e1-ab02ca481099"
      },
      "source": [
        "c.fetchone()"
      ],
      "execution_count": null,
      "outputs": [
        {
          "output_type": "execute_result",
          "data": {
            "text/plain": [
              "(0, 0, '6/10（水）', 7061, 7140, 7011, 7094, 4770800, 7094.0)"
            ]
          },
          "metadata": {
            "tags": []
          },
          "execution_count": 12
        }
      ]
    },
    {
      "cell_type": "code",
      "metadata": {
        "id": "Hkke6TnpWFON",
        "colab_type": "code",
        "colab": {
          "base_uri": "https://localhost:8080/",
          "height": 425
        },
        "outputId": "f1845ede-02fb-4daf-b461-5056ab2736da"
      },
      "source": [
        "c.fetchall()"
      ],
      "execution_count": null,
      "outputs": [
        {
          "output_type": "execute_result",
          "data": {
            "text/plain": [
              "[(1, 1, '6/9（火）', 7100, 7129, 7020, 7121, 5846500, 7121.0),\n",
              " (2, 2, '6/8（月）', 7160, 7174, 7106, 7167, 6342100, 7167.0),\n",
              " (3, 3, '6/5（金）', 6946, 7067, 6940, 7067, 5365100, 7067.0),\n",
              " (4, 4, '6/4（木）', 7007, 7100, 6933, 6974, 7860000, 6974.0),\n",
              " (5, 5, '6/3（水）', 6900, 6937, 6860, 6915, 6444300, 6915.0),\n",
              " (6, 6, '6/2（火）', 6785, 6865, 6768, 6774, 5962700, 6774.0),\n",
              " (7, 7, '6/1（月）', 6785, 6820, 6685, 6720, 4506700, 6720.0),\n",
              " (8, 8, '5/29（金）', 6900, 6945, 6755, 6755, 21832300, 6755.0),\n",
              " (9, 9, '5/28（木）', 6839, 6980, 6826, 6973, 9734100, 6973.0),\n",
              " (10, 10, '5/27（水）', 6640, 6775, 6592, 6740, 7699300, 6740.0),\n",
              " (11, 11, '5/26（火）', 6440, 6680, 6426, 6649, 7740600, 6649.0),\n",
              " (12, 12, '5/25（月）', 6385, 6395, 6336, 6383, 3070300, 6383.0),\n",
              " (13, 13, '5/22（金）', 6420, 6436, 6280, 6289, 4653700, 6289.0),\n",
              " (14, 14, '5/21（木）', 6441, 6445, 6354, 6362, 3527600, 6362.0),\n",
              " (15, 15, '5/20（水）', 6402, 6431, 6387, 6415, 4274100, 6415.0),\n",
              " (16, 16, '5/19（火）', 6346, 6462, 6338, 6431, 7019000, 6431.0),\n",
              " (17, 17, '5/18（月）', 6280, 6300, 6248, 6257, 4345000, 6257.0),\n",
              " (18, 18, '5/15（金）', 6300, 6320, 6208, 6249, 5478600, 6249.0),\n",
              " (19, 19, '5/14（木）', 6300, 6326, 6243, 6243, 6494600, 6243.0),\n",
              " (20, 20, '5/13（水）', 6412, 6460, 6372, 6384, 8131500, 6384.0),\n",
              " (21, 21, '5/12（火）', 6610, 6655, 6485, 6527, 7809400, 6527.0),\n",
              " (22, 22, '5/11（月）', 6620, 6675, 6582, 6658, 5180000, 6658.0),\n",
              " (23, 23, '5/8（金）', 6448, 6511, 6421, 6492, 5449200, 6492.0),\n",
              " (24, 24, '5/7（木）', 6382, 6457, 6373, 6414, 5930400, 6414.0)]"
            ]
          },
          "metadata": {
            "tags": []
          },
          "execution_count": 13
        }
      ]
    },
    {
      "cell_type": "code",
      "metadata": {
        "id": "lggHHpwaWQrz",
        "colab_type": "code",
        "colab": {
          "base_uri": "https://localhost:8080/",
          "height": 442
        },
        "outputId": "250667ef-88f7-4994-b763-b3c3ace49fea"
      },
      "source": [
        "for row in c.execute(query):\n",
        "  print(row)"
      ],
      "execution_count": null,
      "outputs": [
        {
          "output_type": "stream",
          "text": [
            "(0, 0, '6/10（水）', 7061, 7140, 7011, 7094, 4770800, 7094.0)\n",
            "(1, 1, '6/9（火）', 7100, 7129, 7020, 7121, 5846500, 7121.0)\n",
            "(2, 2, '6/8（月）', 7160, 7174, 7106, 7167, 6342100, 7167.0)\n",
            "(3, 3, '6/5（金）', 6946, 7067, 6940, 7067, 5365100, 7067.0)\n",
            "(4, 4, '6/4（木）', 7007, 7100, 6933, 6974, 7860000, 6974.0)\n",
            "(5, 5, '6/3（水）', 6900, 6937, 6860, 6915, 6444300, 6915.0)\n",
            "(6, 6, '6/2（火）', 6785, 6865, 6768, 6774, 5962700, 6774.0)\n",
            "(7, 7, '6/1（月）', 6785, 6820, 6685, 6720, 4506700, 6720.0)\n",
            "(8, 8, '5/29（金）', 6900, 6945, 6755, 6755, 21832300, 6755.0)\n",
            "(9, 9, '5/28（木）', 6839, 6980, 6826, 6973, 9734100, 6973.0)\n",
            "(10, 10, '5/27（水）', 6640, 6775, 6592, 6740, 7699300, 6740.0)\n",
            "(11, 11, '5/26（火）', 6440, 6680, 6426, 6649, 7740600, 6649.0)\n",
            "(12, 12, '5/25（月）', 6385, 6395, 6336, 6383, 3070300, 6383.0)\n",
            "(13, 13, '5/22（金）', 6420, 6436, 6280, 6289, 4653700, 6289.0)\n",
            "(14, 14, '5/21（木）', 6441, 6445, 6354, 6362, 3527600, 6362.0)\n",
            "(15, 15, '5/20（水）', 6402, 6431, 6387, 6415, 4274100, 6415.0)\n",
            "(16, 16, '5/19（火）', 6346, 6462, 6338, 6431, 7019000, 6431.0)\n",
            "(17, 17, '5/18（月）', 6280, 6300, 6248, 6257, 4345000, 6257.0)\n",
            "(18, 18, '5/15（金）', 6300, 6320, 6208, 6249, 5478600, 6249.0)\n",
            "(19, 19, '5/14（木）', 6300, 6326, 6243, 6243, 6494600, 6243.0)\n",
            "(20, 20, '5/13（水）', 6412, 6460, 6372, 6384, 8131500, 6384.0)\n",
            "(21, 21, '5/12（火）', 6610, 6655, 6485, 6527, 7809400, 6527.0)\n",
            "(22, 22, '5/11（月）', 6620, 6675, 6582, 6658, 5180000, 6658.0)\n",
            "(23, 23, '5/8（金）', 6448, 6511, 6421, 6492, 5449200, 6492.0)\n",
            "(24, 24, '5/7（木）', 6382, 6457, 6373, 6414, 5930400, 6414.0)\n"
          ],
          "name": "stdout"
        }
      ]
    },
    {
      "cell_type": "code",
      "metadata": {
        "id": "QtVKJ_5gWzQT",
        "colab_type": "code",
        "colab": {}
      },
      "source": [
        "conn.close()"
      ],
      "execution_count": null,
      "outputs": []
    },
    {
      "cell_type": "code",
      "metadata": {
        "id": "YFlDdMSCW3oi",
        "colab_type": "code",
        "colab": {
          "base_uri": "https://localhost:8080/",
          "height": 168
        },
        "outputId": "891ad28f-0f65-4c86-a780-b9db528fa172"
      },
      "source": [
        "c.fetchall()"
      ],
      "execution_count": null,
      "outputs": [
        {
          "output_type": "error",
          "ename": "ProgrammingError",
          "evalue": "ignored",
          "traceback": [
            "\u001b[0;31m---------------------------------------------------------------------------\u001b[0m",
            "\u001b[0;31mProgrammingError\u001b[0m                          Traceback (most recent call last)",
            "\u001b[0;32m<ipython-input-16-490e9071c4ec>\u001b[0m in \u001b[0;36m<module>\u001b[0;34m()\u001b[0m\n\u001b[0;32m----> 1\u001b[0;31m \u001b[0mc\u001b[0m\u001b[0;34m.\u001b[0m\u001b[0mfetchall\u001b[0m\u001b[0;34m(\u001b[0m\u001b[0;34m)\u001b[0m\u001b[0;34m\u001b[0m\u001b[0;34m\u001b[0m\u001b[0m\n\u001b[0m",
            "\u001b[0;31mProgrammingError\u001b[0m: Cannot operate on a closed database."
          ]
        }
      ]
    },
    {
      "cell_type": "code",
      "metadata": {
        "id": "p_8uhM0KW_Kk",
        "colab_type": "code",
        "colab": {
          "base_uri": "https://localhost:8080/",
          "height": 34
        },
        "outputId": "a01557d8-f7ae-41b5-81b2-803dbddac935"
      },
      "source": [
        "c"
      ],
      "execution_count": null,
      "outputs": [
        {
          "output_type": "execute_result",
          "data": {
            "text/plain": [
              "<sqlite3.Cursor at 0x7fe886b46730>"
            ]
          },
          "metadata": {
            "tags": []
          },
          "execution_count": 17
        }
      ]
    },
    {
      "cell_type": "code",
      "metadata": {
        "id": "A3QkHToDXABz",
        "colab_type": "code",
        "colab": {
          "base_uri": "https://localhost:8080/",
          "height": 168
        },
        "outputId": "0f7bb5bf-fb0e-4c29-a422-3aa4e25fdca5"
      },
      "source": [
        "c.fetchall()"
      ],
      "execution_count": null,
      "outputs": [
        {
          "output_type": "error",
          "ename": "ProgrammingError",
          "evalue": "ignored",
          "traceback": [
            "\u001b[0;31m---------------------------------------------------------------------------\u001b[0m",
            "\u001b[0;31mProgrammingError\u001b[0m                          Traceback (most recent call last)",
            "\u001b[0;32m<ipython-input-18-490e9071c4ec>\u001b[0m in \u001b[0;36m<module>\u001b[0;34m()\u001b[0m\n\u001b[0;32m----> 1\u001b[0;31m \u001b[0mc\u001b[0m\u001b[0;34m.\u001b[0m\u001b[0mfetchall\u001b[0m\u001b[0;34m(\u001b[0m\u001b[0;34m)\u001b[0m\u001b[0;34m\u001b[0m\u001b[0;34m\u001b[0m\u001b[0m\n\u001b[0m",
            "\u001b[0;31mProgrammingError\u001b[0m: Cannot operate on a closed database."
          ]
        }
      ]
    },
    {
      "cell_type": "code",
      "metadata": {
        "id": "XEmmgHHQXFlE",
        "colab_type": "code",
        "colab": {}
      },
      "source": [
        ""
      ],
      "execution_count": null,
      "outputs": []
    }
  ]
}