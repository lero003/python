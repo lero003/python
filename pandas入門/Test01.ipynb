{
 "cells": [
  {
   "cell_type": "code",
   "execution_count": 5,
   "metadata": {},
   "outputs": [
    {
     "name": "stdout",
     "output_type": "stream",
     "text": [
      "61.0\n",
      "sato passed\n"
     ]
    }
   ],
   "source": [
    "class Student:\n",
    "    def __init__(self,name):\n",
    "        self.name = name\n",
    "\n",
    "    def calculate_avg(self,date):\n",
    "        sum = 0\n",
    "\n",
    "        for num in date:\n",
    "            sum += num\n",
    "\n",
    "        avg = sum/len(date)\n",
    "        return avg\n",
    "    \n",
    "    def jedge(self,avg):\n",
    "\n",
    "        if(avg >= 60):\n",
    "            result=\"passed\"\n",
    "        else:\n",
    "            result=\"failed\"\n",
    "        return result\n",
    "\n",
    "a001 = Student(\"sato\")\n",
    "date = [70,65,50,90,30]\n",
    "avg = a001.calculate_avg(date)\n",
    "result = a001.jedge(avg)\n",
    "\n",
    "print(avg)\n",
    "print(a001.name+\" \"+result)"
   ]
  },
  {
   "cell_type": "code",
   "execution_count": 4,
   "metadata": {},
   "outputs": [
    {
     "name": "stdout",
     "output_type": "stream",
     "text": [
      "hello world\n"
     ]
    }
   ],
   "source": [
    "#コメントアウト\n",
    "print(\"hello world\")"
   ]
  },
  {
   "cell_type": "markdown",
   "metadata": {},
   "source": [
    "こんにちは"
   ]
  },
  {
   "cell_type": "code",
   "execution_count": null,
   "metadata": {},
   "outputs": [],
   "source": [
    "print"
   ]
  }
 ],
 "metadata": {
  "kernelspec": {
   "display_name": "Python 3",
   "language": "python",
   "name": "python3"
  },
  "language_info": {
   "codemirror_mode": {
    "name": "ipython",
    "version": 3
   },
   "file_extension": ".py",
   "mimetype": "text/x-python",
   "name": "python",
   "nbconvert_exporter": "python",
   "pygments_lexer": "ipython3",
   "version": "3.7.6"
  }
 },
 "nbformat": 4,
 "nbformat_minor": 4
}
