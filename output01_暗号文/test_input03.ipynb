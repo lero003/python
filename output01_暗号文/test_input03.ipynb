{
 "cells": [
  {
   "cell_type": "code",
   "execution_count": 3,
   "metadata": {},
   "outputs": [],
   "source": [
    "# https://qiita.com/pm00/items/3bdc0d14f2c8cd2e7f3a\n",
    "\n",
    "import codecs"
   ]
  },
  {
   "cell_type": "code",
   "execution_count": 4,
   "metadata": {},
   "outputs": [
    {
     "data": {
      "text/plain": [
       "'Hello, World!'"
      ]
     },
     "execution_count": 4,
     "metadata": {},
     "output_type": "execute_result"
    }
   ],
   "source": [
    "codecs.decode('Hello, World!', 'rot13')\n",
    "# 'Uryyb, Jbeyq!'\n",
    "codecs.decode('Uryyb, Jbeyq!', 'rot13')\n",
    "# 'Hello, World!'"
   ]
  },
  {
   "cell_type": "code",
   "execution_count": 9,
   "metadata": {},
   "outputs": [],
   "source": [
    "def caesar(plaintext):\n",
    "    key=13    # key:アルファベットおよび数字について文字コードをズラす数\n",
    "    enc=\"cp932\"\n",
    "    ciphertext = \"\"\n",
    "    for ch in list(plaintext): #1文字ずつ走査し、if分を使って文字コードの数字から文字の種類を判定する\n",
    "        #記号\n",
    "        if (' ' <= ch <= '/') or (':' <= ch <= '@') or ('[' <= ch <= '`') or ('{' <= ch <= '~') or ('、' <= ch <= '◯') :\n",
    "            ciphertext +=chr(ord(ch))\n",
    "        #A-Z\n",
    "        elif 'A' <= ch <= 'Z':\n",
    "            ciphertext += chr((ord(ch) - ord('A') + int(key)) % 26 + ord('A'))\n",
    "        #a-z\n",
    "        elif 'a' <= ch <= 'z':\n",
    "            ciphertext += chr((ord(ch) - ord('a') + int(key)) % 26 + ord('a'))\n",
    "        #0-9\n",
    "        elif '0' <= ch <= '9':\n",
    "            ciphertext += chr((ord(ch) - ord('0') + int(key)) % 10 + ord('0'))\n",
    "        #その他（ひらがなカタカナ漢字など）\n",
    "        else:\n",
    "            byte=bytearray(ch.encode(enc)) # 文字コードを指定してエンコードする、この出力は2バイトのbyte列になるのでbytearrayに変換してから扱う\n",
    "            while(1): # 文字が存在する文字コードにぶつかるまで、1ずつバイトをズラしていく\n",
    "                try:\n",
    "                    try:\n",
    "                        byte[-1]+=0x01  # 末尾バイト部分を1bitズラす、\n",
    "                    except:\n",
    "                        byte[-1]=0x00   # 繰り上がり考慮。末尾バイトを00に戻して次バイトをインクリメントする\n",
    "                        byte[-2]+=0x01  \n",
    "                    x=byte.decode(enc)  # encでデコードしてみて、エラー発生を検知する\n",
    "                except:\n",
    "                    pass\n",
    "                else:\n",
    "                    break\n",
    "            ciphertext += x\n",
    "    return ciphertext"
   ]
  },
  {
   "cell_type": "code",
   "execution_count": 12,
   "metadata": {},
   "outputs": [
    {
     "ename": "NameError",
     "evalue": "name 'plaintext' is not defined",
     "output_type": "error",
     "traceback": [
      "\u001b[0;31m---------------------------------------------------------------------------\u001b[0m",
      "\u001b[0;31mNameError\u001b[0m                                 Traceback (most recent call last)",
      "\u001b[0;32m<ipython-input-12-b963079c31e5>\u001b[0m in \u001b[0;36m<module>\u001b[0;34m\u001b[0m\n\u001b[0;32m----> 1\u001b[0;31m \u001b[0mcaesar\u001b[0m\u001b[0;34m(\u001b[0m\u001b[0mplaintext\u001b[0m\u001b[0;34m)\u001b[0m\u001b[0;34m\u001b[0m\u001b[0;34m\u001b[0m\u001b[0m\n\u001b[0m",
      "\u001b[0;31mNameError\u001b[0m: name 'plaintext' is not defined"
     ]
    }
   ],
   "source": [
    "caesar(plaintext)"
   ]
  },
  {
   "cell_type": "code",
   "execution_count": null,
   "metadata": {},
   "outputs": [],
   "source": []
  }
 ],
 "metadata": {
  "kernelspec": {
   "display_name": "Python 3",
   "language": "python",
   "name": "python3"
  },
  "language_info": {
   "codemirror_mode": {
    "name": "ipython",
    "version": 3
   },
   "file_extension": ".py",
   "mimetype": "text/x-python",
   "name": "python",
   "nbconvert_exporter": "python",
   "pygments_lexer": "ipython3",
   "version": "3.7.6"
  }
 },
 "nbformat": 4,
 "nbformat_minor": 4
}
