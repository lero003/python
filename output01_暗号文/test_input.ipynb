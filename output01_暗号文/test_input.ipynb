{
 "cells": [
  {
   "cell_type": "code",
   "execution_count": null,
   "metadata": {},
   "outputs": [],
   "source": [
    "#1行に1つの整数の入力を取得し、整数として取得する\n",
    "\n",
    "str = input() # sを取得し、strに値を入れる\n",
    "print(str) #出力：s"
   ]
  },
  {
   "cell_type": "code",
   "execution_count": null,
   "metadata": {},
   "outputs": [],
   "source": [
    "while True:\n",
    "    inp=input('hogeって入力して>>')\n",
    "    if inp=='hoge':break\n",
    "print('よくできました')"
   ]
  },
  {
   "cell_type": "code",
   "execution_count": 16,
   "metadata": {},
   "outputs": [
    {
     "name": "stdin",
     "output_type": "stream",
     "text": [
      "ひらがなで入れてね aa\n"
     ]
    },
    {
     "name": "stdout",
     "output_type": "stream",
     "text": [
      "aa\n"
     ]
    }
   ],
   "source": [
    "hiragana_in = input('ひらがなで入れてね')\n",
    "\n",
    "print(hiragana_in)"
   ]
  },
  {
   "cell_type": "code",
   "execution_count": 17,
   "metadata": {},
   "outputs": [
    {
     "name": "stdout",
     "output_type": "stream",
     "text": [
      "È\n"
     ]
    }
   ],
   "source": [
    "# https://qiita.com/Naoto9282/items/0c7dd06b0b6cd574d7d3"
   ]
  },
  {
   "cell_type": "code",
   "execution_count": 24,
   "metadata": {},
   "outputs": [
    {
     "name": "stdout",
     "output_type": "stream",
     "text": [
      "dssoh\n"
     ]
    }
   ],
   "source": [
    "#シーザー暗号 サンプル01\n",
    "\n",
    "# 平文\n",
    "PLAIN = \"apple\"\n",
    "\n",
    "# 秘密鍵\n",
    "KEY = 3\n",
    "\n",
    "# 以下に、記述してください。\n",
    "enc = \"\"\n",
    "\n",
    "for char in list(PLAIN):\n",
    "    ASCII = ord(char)\n",
    "    num = ASCII - 97\n",
    "    num = (num + KEY) % 26\n",
    "    ASCII = num + 97\n",
    "    enc += chr(ASCII)\n",
    "\n",
    "print(enc)"
   ]
  },
  {
   "cell_type": "code",
   "execution_count": 25,
   "metadata": {},
   "outputs": [
    {
     "name": "stdout",
     "output_type": "stream",
     "text": [
      "apple\n"
     ]
    }
   ],
   "source": [
    "#シーザー暗号 サンプル02\n",
    "\n",
    "# 暗号文\n",
    "ENC = \"dssoh\"\n",
    "\n",
    "# 秘密鍵\n",
    "KEY = 3\n",
    "\n",
    "# 以下に、記述してください。\n",
    "plain = \"\"\n",
    "\n",
    "for char in list(ENC):\n",
    "    ASCII = ord(char)\n",
    "    num = ASCII - 97\n",
    "    num = (num - KEY) % 26\n",
    "    ASCII = num + 97\n",
    "    plain += chr(ASCII)\n",
    "\n",
    "print(plain)"
   ]
  },
  {
   "cell_type": "code",
   "execution_count": 28,
   "metadata": {},
   "outputs": [
    {
     "name": "stdout",
     "output_type": "stream",
     "text": [
      "lnp\n",
      "kmo\n",
      "jln\n",
      "ikm\n",
      "hjl\n",
      "gik\n",
      "fhj\n",
      "egi\n",
      "dfh\n",
      "ceg\n",
      "bdf\n",
      "ace\n",
      "zbd\n",
      "yac\n",
      "xzb\n",
      "wya\n",
      "vxz\n",
      "uwy\n",
      "tvx\n",
      "suw\n",
      "rtv\n",
      "qsu\n",
      "prt\n",
      "oqs\n",
      "npr\n",
      "moq\n"
     ]
    }
   ],
   "source": [
    "#シーザー暗号 サンプル03 ２６通りのブルートフォースアタック\n",
    "\n",
    "# 暗号文\n",
    "ENC = \"あいう\"\n",
    "\n",
    "# 以下の復号アルゴリズムを用いて、\n",
    "# 秘密鍵の値を26通り全て出力してみよう！\n",
    "for KEY in range(26):\n",
    "    plain = \"\"\n",
    "\n",
    "    for char in list(ENC):\n",
    "        ASCII = ord(char) #charをUnicodeへ変換\n",
    "        num = ASCII - 97\n",
    "        num = (num - KEY) % 26\n",
    "        ASCII = num + 97\n",
    "        plain += chr(ASCII)\n",
    "\n",
    "    print(plain)"
   ]
  },
  {
   "cell_type": "code",
   "execution_count": null,
   "metadata": {},
   "outputs": [],
   "source": [
    "#シーザー暗号 サンプル01の入力版\n",
    "\n",
    "# 平文\n",
    "PLAIN = input()\n",
    "\n",
    "# 秘密鍵\n",
    "KEY = 3\n",
    "\n",
    "# 以下に、記述してください。\n",
    "enc = \"\"\n",
    "\n",
    "for char in list(PLAIN):\n",
    "    ASCII = ord(char)\n",
    "    num = ASCII - 97\n",
    "    num = (num + KEY) % 26\n",
    "    ASCII = num + 97\n",
    "    enc += chr(ASCII)\n",
    "\n",
    "print(enc)"
   ]
  },
  {
   "cell_type": "code",
   "execution_count": 42,
   "metadata": {},
   "outputs": [
    {
     "data": {
      "text/plain": [
       "'t'"
      ]
     },
     "execution_count": 42,
     "metadata": {},
     "output_type": "execute_result"
    }
   ],
   "source": [
    "char"
   ]
  },
  {
   "cell_type": "code",
   "execution_count": null,
   "metadata": {},
   "outputs": [],
   "source": []
  }
 ],
 "metadata": {
  "kernelspec": {
   "display_name": "Python 3",
   "language": "python",
   "name": "python3"
  },
  "language_info": {
   "codemirror_mode": {
    "name": "ipython",
    "version": 3
   },
   "file_extension": ".py",
   "mimetype": "text/x-python",
   "name": "python",
   "nbconvert_exporter": "python",
   "pygments_lexer": "ipython3",
   "version": "3.7.6"
  }
 },
 "nbformat": 4,
 "nbformat_minor": 4
}
