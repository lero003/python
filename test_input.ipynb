{
  "nbformat": 4,
  "nbformat_minor": 0,
  "metadata": {
    "kernelspec": {
      "display_name": "Python 3",
      "language": "python",
      "name": "python3"
    },
    "language_info": {
      "codemirror_mode": {
        "name": "ipython",
        "version": 3
      },
      "file_extension": ".py",
      "mimetype": "text/x-python",
      "name": "python",
      "nbconvert_exporter": "python",
      "pygments_lexer": "ipython3",
      "version": "3.7.6"
    },
    "colab": {
      "name": "test_input.ipynb",
      "provenance": [],
      "include_colab_link": true
    }
  },
  "cells": [
    {
      "cell_type": "markdown",
      "metadata": {
        "id": "view-in-github",
        "colab_type": "text"
      },
      "source": [
        "<a href=\"https://colab.research.google.com/github/lero003/python/blob/master/test_input.ipynb\" target=\"_parent\"><img src=\"https://colab.research.google.com/assets/colab-badge.svg\" alt=\"Open In Colab\"/></a>"
      ]
    },
    {
      "cell_type": "code",
      "metadata": {
        "id": "FrdPtGK6cXC_",
        "colab_type": "code",
        "colab": {}
      },
      "source": [
        "#1行に1つの整数の入力を取得し、整数として取得する\n",
        "\n",
        "str = input() # sを取得し、strに値を入れる\n",
        "print(str) #出力：s"
      ],
      "execution_count": null,
      "outputs": []
    },
    {
      "cell_type": "code",
      "metadata": {
        "id": "Ae4ae1AOcXDE",
        "colab_type": "code",
        "colab": {}
      },
      "source": [
        "while True:\n",
        "    inp=input('hogeって入力して>>')\n",
        "    if inp=='hoge':break\n",
        "print('よくできました')"
      ],
      "execution_count": null,
      "outputs": []
    },
    {
      "cell_type": "code",
      "metadata": {
        "id": "nD7FS8G4cXDI",
        "colab_type": "code",
        "colab": {},
        "outputId": "f05fc955-76b3-43c0-ac12-325ccdb7722c"
      },
      "source": [
        "hiragana_in = input('ひらがなで入れてね')\n",
        "\n",
        "print(hiragana_in)"
      ],
      "execution_count": null,
      "outputs": [
        {
          "output_type": "stream",
          "text": [
            "ひらがなで入れてね aa\n"
          ],
          "name": "stdin"
        },
        {
          "output_type": "stream",
          "text": [
            "aa\n"
          ],
          "name": "stdout"
        }
      ]
    },
    {
      "cell_type": "code",
      "metadata": {
        "id": "BQQ2WgO7cXDM",
        "colab_type": "code",
        "colab": {},
        "outputId": "9f19ff19-8249-4ceb-a715-d503f0e0e6e0"
      },
      "source": [
        "# https://qiita.com/Naoto9282/items/0c7dd06b0b6cd574d7d3"
      ],
      "execution_count": null,
      "outputs": [
        {
          "output_type": "stream",
          "text": [
            "È\n"
          ],
          "name": "stdout"
        }
      ]
    },
    {
      "cell_type": "code",
      "metadata": {
        "id": "_UzVVjjdcXDP",
        "colab_type": "code",
        "colab": {},
        "outputId": "5a73e1b5-f5aa-43bb-dafb-1ed8149f9c55"
      },
      "source": [
        "#シーザー暗号 サンプル01\n",
        "\n",
        "# 平文\n",
        "PLAIN = \"apple\"\n",
        "\n",
        "# 秘密鍵\n",
        "KEY = 3\n",
        "\n",
        "# 以下に、記述してください。\n",
        "enc = \"\"\n",
        "\n",
        "for char in list(PLAIN):\n",
        "    ASCII = ord(char)\n",
        "    num = ASCII - 97\n",
        "    num = (num + KEY) % 26\n",
        "    ASCII = num + 97\n",
        "    enc += chr(ASCII)\n",
        "\n",
        "print(enc)"
      ],
      "execution_count": null,
      "outputs": [
        {
          "output_type": "stream",
          "text": [
            "dssoh\n"
          ],
          "name": "stdout"
        }
      ]
    },
    {
      "cell_type": "code",
      "metadata": {
        "id": "AfLX4wKTcXDS",
        "colab_type": "code",
        "colab": {},
        "outputId": "49056f08-b597-4ca0-d1a0-c2c4187c7df8"
      },
      "source": [
        "#シーザー暗号 サンプル02\n",
        "\n",
        "# 暗号文\n",
        "ENC = \"dssoh\"\n",
        "\n",
        "# 秘密鍵\n",
        "KEY = 3\n",
        "\n",
        "# 以下に、記述してください。\n",
        "plain = \"\"\n",
        "\n",
        "for char in list(ENC):\n",
        "    ASCII = ord(char)\n",
        "    num = ASCII - 97\n",
        "    num = (num - KEY) % 26\n",
        "    ASCII = num + 97\n",
        "    plain += chr(ASCII)\n",
        "\n",
        "print(plain)"
      ],
      "execution_count": null,
      "outputs": [
        {
          "output_type": "stream",
          "text": [
            "apple\n"
          ],
          "name": "stdout"
        }
      ]
    },
    {
      "cell_type": "code",
      "metadata": {
        "id": "0MIHwUjncXDV",
        "colab_type": "code",
        "colab": {}
      },
      "source": [
        "#シーザー暗号 サンプル03 ２６通りのブルートフォースアタック\n",
        "\n",
        "# 暗号文\n",
        "ENC = \"あいう\"\n",
        "\n",
        "# 以下の復号アルゴリズムを用いて、\n",
        "# 秘密鍵の値を26通り全て出力してみよう！\n",
        "for KEY in range(26):\n",
        "    plain = \"\"\n",
        "\n",
        "    for char in list(ENC):\n",
        "        ASCII = ord(char) #charをUnicodeへ変換\n",
        "        num = ASCII - 97\n",
        "        num = (num - KEY) % 26\n",
        "        ASCII = num + 97\n",
        "        plain += chr(ASCII)\n",
        "\n",
        "    print(plain)"
      ],
      "execution_count": null,
      "outputs": []
    },
    {
      "cell_type": "code",
      "metadata": {
        "id": "P6SvncjHcXDZ",
        "colab_type": "code",
        "colab": {
          "base_uri": "https://localhost:8080/",
          "height": 51
        },
        "outputId": "27f23513-e5b8-4276-810c-44ee1a4b4141"
      },
      "source": [
        "#シーザー暗号 サンプル01の入力版\n",
        "\n",
        "# 平文\n",
        "PLAIN = input()\n",
        "\n",
        "# 秘密鍵\n",
        "KEY = 3\n",
        "\n",
        "# 以下に、記述してください。\n",
        "enc = \"\"\n",
        "\n",
        "for char in list(PLAIN):\n",
        "    ASCII = ord(char)\n",
        "    num = ASCII - 97\n",
        "    num = (num + KEY) % 26\n",
        "    ASCII = num + 97\n",
        "    enc += chr(ASCII)\n",
        "\n",
        "print(enc)"
      ],
      "execution_count": null,
      "outputs": [
        {
          "output_type": "stream",
          "text": [
            "test\n",
            "whvw\n"
          ],
          "name": "stdout"
        }
      ]
    },
    {
      "cell_type": "code",
      "metadata": {
        "id": "Qu4Ulh7-cXDe",
        "colab_type": "code",
        "colab": {}
      },
      "source": [
        ""
      ],
      "execution_count": null,
      "outputs": []
    }
  ]
}