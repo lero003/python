{
 "cells": [
  {
   "cell_type": "code",
   "execution_count": null,
   "metadata": {
    "colab": {},
    "colab_type": "code",
    "id": "Vs8xXbF8Tmqs"
   },
   "outputs": [],
   "source": [
    "import sqlite3\n",
    "import pandas as pd"
   ]
  },
  {
   "cell_type": "code",
   "execution_count": null,
   "metadata": {
    "colab": {},
    "colab_type": "code",
    "id": "e65xgEWtUMmN"
   },
   "outputs": [],
   "source": [
    "df = pd.read_csv(\"/content/drive/My Drive/python_test/test01.csv\")"
   ]
  },
  {
   "cell_type": "code",
   "execution_count": 1,
   "metadata": {
    "colab": {
     "base_uri": "https://localhost:8080/",
     "height": 824
    },
    "colab_type": "code",
    "id": "GjjygYIZUja3",
    "outputId": "490a14c3-9aaf-47f3-cff0-0df496516696"
   },
   "outputs": [
    {
     "ename": "NameError",
     "evalue": "name 'df' is not defined",
     "output_type": "error",
     "traceback": [
      "\u001b[0;31m---------------------------------------------------------------------------\u001b[0m",
      "\u001b[0;31mNameError\u001b[0m                                 Traceback (most recent call last)",
      "\u001b[0;32m<ipython-input-1-00cf07b74dcd>\u001b[0m in \u001b[0;36m<module>\u001b[0;34m\u001b[0m\n\u001b[0;32m----> 1\u001b[0;31m \u001b[0mdf\u001b[0m\u001b[0;34m\u001b[0m\u001b[0;34m\u001b[0m\u001b[0m\n\u001b[0m",
      "\u001b[0;31mNameError\u001b[0m: name 'df' is not defined"
     ]
    }
   ],
   "source": [
    "df"
   ]
  },
  {
   "cell_type": "code",
   "execution_count": 5,
   "metadata": {
    "colab": {
     "base_uri": "https://localhost:8080/",
     "height": 204
    },
    "colab_type": "code",
    "id": "DNecmid6UlZG",
    "outputId": "603c3982-d263-4a4e-8215-97b2c0c68eb3"
   },
   "outputs": [
    {
     "data": {
      "text/html": [
       "<div>\n",
       "<style scoped>\n",
       "    .dataframe tbody tr th:only-of-type {\n",
       "        vertical-align: middle;\n",
       "    }\n",
       "\n",
       "    .dataframe tbody tr th {\n",
       "        vertical-align: top;\n",
       "    }\n",
       "\n",
       "    .dataframe thead th {\n",
       "        text-align: right;\n",
       "    }\n",
       "</style>\n",
       "<table border=\"1\" class=\"dataframe\">\n",
       "  <thead>\n",
       "    <tr style=\"text-align: right;\">\n",
       "      <th></th>\n",
       "      <th>Unnamed: 0</th>\n",
       "      <th>日付</th>\n",
       "      <th>始値</th>\n",
       "      <th>高値</th>\n",
       "      <th>安値</th>\n",
       "      <th>終値</th>\n",
       "      <th>売買高</th>\n",
       "      <th>修正後終値</th>\n",
       "    </tr>\n",
       "  </thead>\n",
       "  <tbody>\n",
       "    <tr>\n",
       "      <th>0</th>\n",
       "      <td>0</td>\n",
       "      <td>6/10（水）</td>\n",
       "      <td>7061</td>\n",
       "      <td>7140</td>\n",
       "      <td>7011</td>\n",
       "      <td>7094</td>\n",
       "      <td>4770800</td>\n",
       "      <td>7094.0</td>\n",
       "    </tr>\n",
       "    <tr>\n",
       "      <th>1</th>\n",
       "      <td>1</td>\n",
       "      <td>6/9（火）</td>\n",
       "      <td>7100</td>\n",
       "      <td>7129</td>\n",
       "      <td>7020</td>\n",
       "      <td>7121</td>\n",
       "      <td>5846500</td>\n",
       "      <td>7121.0</td>\n",
       "    </tr>\n",
       "    <tr>\n",
       "      <th>2</th>\n",
       "      <td>2</td>\n",
       "      <td>6/8（月）</td>\n",
       "      <td>7160</td>\n",
       "      <td>7174</td>\n",
       "      <td>7106</td>\n",
       "      <td>7167</td>\n",
       "      <td>6342100</td>\n",
       "      <td>7167.0</td>\n",
       "    </tr>\n",
       "    <tr>\n",
       "      <th>3</th>\n",
       "      <td>3</td>\n",
       "      <td>6/5（金）</td>\n",
       "      <td>6946</td>\n",
       "      <td>7067</td>\n",
       "      <td>6940</td>\n",
       "      <td>7067</td>\n",
       "      <td>5365100</td>\n",
       "      <td>7067.0</td>\n",
       "    </tr>\n",
       "    <tr>\n",
       "      <th>4</th>\n",
       "      <td>4</td>\n",
       "      <td>6/4（木）</td>\n",
       "      <td>7007</td>\n",
       "      <td>7100</td>\n",
       "      <td>6933</td>\n",
       "      <td>6974</td>\n",
       "      <td>7860000</td>\n",
       "      <td>6974.0</td>\n",
       "    </tr>\n",
       "  </tbody>\n",
       "</table>\n",
       "</div>"
      ],
      "text/plain": [
       "   Unnamed: 0       日付    始値    高値    安値    終値      売買高   修正後終値\n",
       "0           0  6/10（水）  7061  7140  7011  7094  4770800  7094.0\n",
       "1           1   6/9（火）  7100  7129  7020  7121  5846500  7121.0\n",
       "2           2   6/8（月）  7160  7174  7106  7167  6342100  7167.0\n",
       "3           3   6/5（金）  6946  7067  6940  7067  5365100  7067.0\n",
       "4           4   6/4（木）  7007  7100  6933  6974  7860000  6974.0"
      ]
     },
     "execution_count": 5,
     "metadata": {
      "tags": []
     },
     "output_type": "execute_result"
    }
   ],
   "source": [
    "df.head()"
   ]
  },
  {
   "cell_type": "code",
   "execution_count": null,
   "metadata": {
    "colab": {},
    "colab_type": "code",
    "id": "L_jDGhc9Uqlc"
   },
   "outputs": [],
   "source": [
    "db_name = 'sample.db'\n",
    "conn = sqlite3.connect(db_name)"
   ]
  },
  {
   "cell_type": "code",
   "execution_count": 7,
   "metadata": {
    "colab": {
     "base_uri": "https://localhost:8080/",
     "height": 34
    },
    "colab_type": "code",
    "id": "C9hrxu7hU6TX",
    "outputId": "fd1d4234-77f3-4938-a9dc-7e6eb3215069"
   },
   "outputs": [
    {
     "data": {
      "text/plain": [
       "<sqlite3.Connection at 0x7fe8877448f0>"
      ]
     },
     "execution_count": 7,
     "metadata": {
      "tags": []
     },
     "output_type": "execute_result"
    }
   ],
   "source": [
    "conn"
   ]
  },
  {
   "cell_type": "code",
   "execution_count": 8,
   "metadata": {
    "colab": {
     "base_uri": "https://localhost:8080/",
     "height": 71
    },
    "colab_type": "code",
    "id": "Z6hSbpQlVCtP",
    "outputId": "11aeb043-9ffe-4c9f-eb2e-33b7fa6d77ae"
   },
   "outputs": [
    {
     "name": "stderr",
     "output_type": "stream",
     "text": [
      "/usr/local/lib/python3.6/dist-packages/pandas/core/generic.py:2663: UserWarning: The spaces in these column names will not be changed. In pandas versions < 0.14, spaces were converted to underscores.\n",
      "  method=method,\n"
     ]
    }
   ],
   "source": [
    "df.to_sql('human',conn,if_exists='replace')"
   ]
  },
  {
   "cell_type": "code",
   "execution_count": null,
   "metadata": {
    "colab": {},
    "colab_type": "code",
    "id": "ay9hWFYZVa2Z"
   },
   "outputs": [],
   "source": [
    "c = conn.cursor()"
   ]
  },
  {
   "cell_type": "code",
   "execution_count": null,
   "metadata": {
    "colab": {},
    "colab_type": "code",
    "id": "l_DW1uUUVrws"
   },
   "outputs": [],
   "source": [
    "query = 'SELECT * FROM human'"
   ]
  },
  {
   "cell_type": "code",
   "execution_count": 11,
   "metadata": {
    "colab": {
     "base_uri": "https://localhost:8080/",
     "height": 34
    },
    "colab_type": "code",
    "id": "7fXUqTPHV1vi",
    "outputId": "20b90315-39d9-40e3-ced4-6c3b985b77fc"
   },
   "outputs": [
    {
     "data": {
      "text/plain": [
       "<sqlite3.Cursor at 0x7fe886b46730>"
      ]
     },
     "execution_count": 11,
     "metadata": {
      "tags": []
     },
     "output_type": "execute_result"
    }
   ],
   "source": [
    "c.execute(query)"
   ]
  },
  {
   "cell_type": "code",
   "execution_count": 12,
   "metadata": {
    "colab": {
     "base_uri": "https://localhost:8080/",
     "height": 34
    },
    "colab_type": "code",
    "id": "kcikZtW0V-QB",
    "outputId": "3e8b0363-2fe9-41b0-e1e1-ab02ca481099"
   },
   "outputs": [
    {
     "data": {
      "text/plain": [
       "(0, 0, '6/10（水）', 7061, 7140, 7011, 7094, 4770800, 7094.0)"
      ]
     },
     "execution_count": 12,
     "metadata": {
      "tags": []
     },
     "output_type": "execute_result"
    }
   ],
   "source": [
    "c.fetchone()"
   ]
  },
  {
   "cell_type": "code",
   "execution_count": 13,
   "metadata": {
    "colab": {
     "base_uri": "https://localhost:8080/",
     "height": 425
    },
    "colab_type": "code",
    "id": "Hkke6TnpWFON",
    "outputId": "f1845ede-02fb-4daf-b461-5056ab2736da"
   },
   "outputs": [
    {
     "data": {
      "text/plain": [
       "[(1, 1, '6/9（火）', 7100, 7129, 7020, 7121, 5846500, 7121.0),\n",
       " (2, 2, '6/8（月）', 7160, 7174, 7106, 7167, 6342100, 7167.0),\n",
       " (3, 3, '6/5（金）', 6946, 7067, 6940, 7067, 5365100, 7067.0),\n",
       " (4, 4, '6/4（木）', 7007, 7100, 6933, 6974, 7860000, 6974.0),\n",
       " (5, 5, '6/3（水）', 6900, 6937, 6860, 6915, 6444300, 6915.0),\n",
       " (6, 6, '6/2（火）', 6785, 6865, 6768, 6774, 5962700, 6774.0),\n",
       " (7, 7, '6/1（月）', 6785, 6820, 6685, 6720, 4506700, 6720.0),\n",
       " (8, 8, '5/29（金）', 6900, 6945, 6755, 6755, 21832300, 6755.0),\n",
       " (9, 9, '5/28（木）', 6839, 6980, 6826, 6973, 9734100, 6973.0),\n",
       " (10, 10, '5/27（水）', 6640, 6775, 6592, 6740, 7699300, 6740.0),\n",
       " (11, 11, '5/26（火）', 6440, 6680, 6426, 6649, 7740600, 6649.0),\n",
       " (12, 12, '5/25（月）', 6385, 6395, 6336, 6383, 3070300, 6383.0),\n",
       " (13, 13, '5/22（金）', 6420, 6436, 6280, 6289, 4653700, 6289.0),\n",
       " (14, 14, '5/21（木）', 6441, 6445, 6354, 6362, 3527600, 6362.0),\n",
       " (15, 15, '5/20（水）', 6402, 6431, 6387, 6415, 4274100, 6415.0),\n",
       " (16, 16, '5/19（火）', 6346, 6462, 6338, 6431, 7019000, 6431.0),\n",
       " (17, 17, '5/18（月）', 6280, 6300, 6248, 6257, 4345000, 6257.0),\n",
       " (18, 18, '5/15（金）', 6300, 6320, 6208, 6249, 5478600, 6249.0),\n",
       " (19, 19, '5/14（木）', 6300, 6326, 6243, 6243, 6494600, 6243.0),\n",
       " (20, 20, '5/13（水）', 6412, 6460, 6372, 6384, 8131500, 6384.0),\n",
       " (21, 21, '5/12（火）', 6610, 6655, 6485, 6527, 7809400, 6527.0),\n",
       " (22, 22, '5/11（月）', 6620, 6675, 6582, 6658, 5180000, 6658.0),\n",
       " (23, 23, '5/8（金）', 6448, 6511, 6421, 6492, 5449200, 6492.0),\n",
       " (24, 24, '5/7（木）', 6382, 6457, 6373, 6414, 5930400, 6414.0)]"
      ]
     },
     "execution_count": 13,
     "metadata": {
      "tags": []
     },
     "output_type": "execute_result"
    }
   ],
   "source": [
    "c.fetchall()"
   ]
  },
  {
   "cell_type": "code",
   "execution_count": 14,
   "metadata": {
    "colab": {
     "base_uri": "https://localhost:8080/",
     "height": 442
    },
    "colab_type": "code",
    "id": "lggHHpwaWQrz",
    "outputId": "250667ef-88f7-4994-b763-b3c3ace49fea"
   },
   "outputs": [
    {
     "name": "stdout",
     "output_type": "stream",
     "text": [
      "(0, 0, '6/10（水）', 7061, 7140, 7011, 7094, 4770800, 7094.0)\n",
      "(1, 1, '6/9（火）', 7100, 7129, 7020, 7121, 5846500, 7121.0)\n",
      "(2, 2, '6/8（月）', 7160, 7174, 7106, 7167, 6342100, 7167.0)\n",
      "(3, 3, '6/5（金）', 6946, 7067, 6940, 7067, 5365100, 7067.0)\n",
      "(4, 4, '6/4（木）', 7007, 7100, 6933, 6974, 7860000, 6974.0)\n",
      "(5, 5, '6/3（水）', 6900, 6937, 6860, 6915, 6444300, 6915.0)\n",
      "(6, 6, '6/2（火）', 6785, 6865, 6768, 6774, 5962700, 6774.0)\n",
      "(7, 7, '6/1（月）', 6785, 6820, 6685, 6720, 4506700, 6720.0)\n",
      "(8, 8, '5/29（金）', 6900, 6945, 6755, 6755, 21832300, 6755.0)\n",
      "(9, 9, '5/28（木）', 6839, 6980, 6826, 6973, 9734100, 6973.0)\n",
      "(10, 10, '5/27（水）', 6640, 6775, 6592, 6740, 7699300, 6740.0)\n",
      "(11, 11, '5/26（火）', 6440, 6680, 6426, 6649, 7740600, 6649.0)\n",
      "(12, 12, '5/25（月）', 6385, 6395, 6336, 6383, 3070300, 6383.0)\n",
      "(13, 13, '5/22（金）', 6420, 6436, 6280, 6289, 4653700, 6289.0)\n",
      "(14, 14, '5/21（木）', 6441, 6445, 6354, 6362, 3527600, 6362.0)\n",
      "(15, 15, '5/20（水）', 6402, 6431, 6387, 6415, 4274100, 6415.0)\n",
      "(16, 16, '5/19（火）', 6346, 6462, 6338, 6431, 7019000, 6431.0)\n",
      "(17, 17, '5/18（月）', 6280, 6300, 6248, 6257, 4345000, 6257.0)\n",
      "(18, 18, '5/15（金）', 6300, 6320, 6208, 6249, 5478600, 6249.0)\n",
      "(19, 19, '5/14（木）', 6300, 6326, 6243, 6243, 6494600, 6243.0)\n",
      "(20, 20, '5/13（水）', 6412, 6460, 6372, 6384, 8131500, 6384.0)\n",
      "(21, 21, '5/12（火）', 6610, 6655, 6485, 6527, 7809400, 6527.0)\n",
      "(22, 22, '5/11（月）', 6620, 6675, 6582, 6658, 5180000, 6658.0)\n",
      "(23, 23, '5/8（金）', 6448, 6511, 6421, 6492, 5449200, 6492.0)\n",
      "(24, 24, '5/7（木）', 6382, 6457, 6373, 6414, 5930400, 6414.0)\n"
     ]
    }
   ],
   "source": [
    "for row in c.execute(query):\n",
    "  print(row)"
   ]
  },
  {
   "cell_type": "code",
   "execution_count": null,
   "metadata": {
    "colab": {},
    "colab_type": "code",
    "id": "QtVKJ_5gWzQT"
   },
   "outputs": [],
   "source": [
    "conn.close()"
   ]
  },
  {
   "cell_type": "code",
   "execution_count": 16,
   "metadata": {
    "colab": {
     "base_uri": "https://localhost:8080/",
     "height": 168
    },
    "colab_type": "code",
    "id": "YFlDdMSCW3oi",
    "outputId": "891ad28f-0f65-4c86-a780-b9db528fa172"
   },
   "outputs": [
    {
     "ename": "ProgrammingError",
     "evalue": "ignored",
     "output_type": "error",
     "traceback": [
      "\u001b[0;31m---------------------------------------------------------------------------\u001b[0m",
      "\u001b[0;31mProgrammingError\u001b[0m                          Traceback (most recent call last)",
      "\u001b[0;32m<ipython-input-16-490e9071c4ec>\u001b[0m in \u001b[0;36m<module>\u001b[0;34m()\u001b[0m\n\u001b[0;32m----> 1\u001b[0;31m \u001b[0mc\u001b[0m\u001b[0;34m.\u001b[0m\u001b[0mfetchall\u001b[0m\u001b[0;34m(\u001b[0m\u001b[0;34m)\u001b[0m\u001b[0;34m\u001b[0m\u001b[0;34m\u001b[0m\u001b[0m\n\u001b[0m",
      "\u001b[0;31mProgrammingError\u001b[0m: Cannot operate on a closed database."
     ]
    }
   ],
   "source": [
    "c.fetchall()"
   ]
  },
  {
   "cell_type": "code",
   "execution_count": 17,
   "metadata": {
    "colab": {
     "base_uri": "https://localhost:8080/",
     "height": 34
    },
    "colab_type": "code",
    "id": "p_8uhM0KW_Kk",
    "outputId": "a01557d8-f7ae-41b5-81b2-803dbddac935"
   },
   "outputs": [
    {
     "data": {
      "text/plain": [
       "<sqlite3.Cursor at 0x7fe886b46730>"
      ]
     },
     "execution_count": 17,
     "metadata": {
      "tags": []
     },
     "output_type": "execute_result"
    }
   ],
   "source": [
    "c"
   ]
  },
  {
   "cell_type": "code",
   "execution_count": 18,
   "metadata": {
    "colab": {
     "base_uri": "https://localhost:8080/",
     "height": 168
    },
    "colab_type": "code",
    "id": "A3QkHToDXABz",
    "outputId": "0f7bb5bf-fb0e-4c29-a422-3aa4e25fdca5"
   },
   "outputs": [
    {
     "ename": "ProgrammingError",
     "evalue": "ignored",
     "output_type": "error",
     "traceback": [
      "\u001b[0;31m---------------------------------------------------------------------------\u001b[0m",
      "\u001b[0;31mProgrammingError\u001b[0m                          Traceback (most recent call last)",
      "\u001b[0;32m<ipython-input-18-490e9071c4ec>\u001b[0m in \u001b[0;36m<module>\u001b[0;34m()\u001b[0m\n\u001b[0;32m----> 1\u001b[0;31m \u001b[0mc\u001b[0m\u001b[0;34m.\u001b[0m\u001b[0mfetchall\u001b[0m\u001b[0;34m(\u001b[0m\u001b[0;34m)\u001b[0m\u001b[0;34m\u001b[0m\u001b[0;34m\u001b[0m\u001b[0m\n\u001b[0m",
      "\u001b[0;31mProgrammingError\u001b[0m: Cannot operate on a closed database."
     ]
    }
   ],
   "source": [
    "c.fetchall()"
   ]
  },
  {
   "cell_type": "code",
   "execution_count": null,
   "metadata": {
    "colab": {},
    "colab_type": "code",
    "id": "XEmmgHHQXFlE"
   },
   "outputs": [],
   "source": []
  }
 ],
 "metadata": {
  "colab": {
   "name": "test_sqlite.ipynb",
   "provenance": []
  },
  "kernelspec": {
   "display_name": "Python 3",
   "language": "python",
   "name": "python3"
  },
  "language_info": {
   "codemirror_mode": {
    "name": "ipython",
    "version": 3
   },
   "file_extension": ".py",
   "mimetype": "text/x-python",
   "name": "python",
   "nbconvert_exporter": "python",
   "pygments_lexer": "ipython3",
   "version": "3.7.6"
  }
 },
 "nbformat": 4,
 "nbformat_minor": 4
}
