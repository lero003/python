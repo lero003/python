{
 "cells": [
  {
   "cell_type": "code",
   "execution_count": 11,
   "metadata": {},
   "outputs": [],
   "source": [
    "import sqlite3\n",
    "#DB準備"
   ]
  },
  {
   "cell_type": "code",
   "execution_count": 16,
   "metadata": {},
   "outputs": [],
   "source": [
    "# TEST.dbを作成する\n",
    "# すでに存在していれば、それにアスセスする。\n",
    "dbname = 'TEST01.db'\n",
    "conn = sqlite3.connect(dbname)\n",
    "\n",
    "# データベースへのコネクションを閉じる。(必須)\n",
    "conn.close()"
   ]
  },
  {
   "cell_type": "code",
   "execution_count": 17,
   "metadata": {},
   "outputs": [
    {
     "ename": "OperationalError",
     "evalue": "table persons already exists",
     "output_type": "error",
     "traceback": [
      "\u001b[0;31m---------------------------------------------------------------------------\u001b[0m",
      "\u001b[0;31mOperationalError\u001b[0m                          Traceback (most recent call last)",
      "\u001b[0;32m<ipython-input-17-7ae2d014de38>\u001b[0m in \u001b[0;36m<module>\u001b[0;34m\u001b[0m\n\u001b[1;32m      7\u001b[0m \u001b[0;31m# 大文字部はSQL文。小文字でも問題ない。\u001b[0m\u001b[0;34m\u001b[0m\u001b[0;34m\u001b[0m\u001b[0;34m\u001b[0m\u001b[0m\n\u001b[1;32m      8\u001b[0m cur.execute(\n\u001b[0;32m----> 9\u001b[0;31m     'CREATE TABLE persons(id INTEGER PRIMARY KEY AUTOINCREMENT,name STRING)')\n\u001b[0m\u001b[1;32m     10\u001b[0m \u001b[0;34m\u001b[0m\u001b[0m\n\u001b[1;32m     11\u001b[0m \u001b[0;31m# データベースへコミット。これで変更が反映される。\u001b[0m\u001b[0;34m\u001b[0m\u001b[0;34m\u001b[0m\u001b[0;34m\u001b[0m\u001b[0m\n",
      "\u001b[0;31mOperationalError\u001b[0m: table persons already exists"
     ]
    }
   ],
   "source": [
    "conn = sqlite3.connect(dbname)\n",
    "\n",
    "# sqliteを操作するカーソルオブジェクトを作成\n",
    "cur = conn.cursor()\n",
    "\n",
    "# personsというtableを作成してみる\n",
    "# 大文字部はSQL文。小文字でも問題ない。\n",
    "cur.execute(\n",
    "    'CREATE TABLE persons(id INTEGER PRIMARY KEY AUTOINCREMENT,name STRING)')\n",
    "\n",
    "# データベースへコミット。これで変更が反映される。\n",
    "conn.commit()\n",
    "conn.close()"
   ]
  },
  {
   "cell_type": "code",
   "execution_count": 18,
   "metadata": {},
   "outputs": [],
   "source": [
    "conn = sqlite3.connect(dbname)\n",
    "cur = conn.cursor()\n",
    "\n",
    "# \"name\"に\"Taro\"を入れる\n",
    "cur.execute('INSERT INTO persons(name) values(\"Taro\")')\n",
    "# 同様に\n",
    "cur.execute('INSERT INTO persons(name) values(\"Hanako\")')\n",
    "cur.execute('INSERT INTO persons(name) values(\"Hiroki\")')\n",
    "\n",
    "conn.commit()\n",
    "\n",
    "cur.close()\n",
    "conn.close()"
   ]
  },
  {
   "cell_type": "code",
   "execution_count": 19,
   "metadata": {},
   "outputs": [
    {
     "ename": "OperationalError",
     "evalue": "no such table: persons",
     "output_type": "error",
     "traceback": [
      "\u001b[0;31m---------------------------------------------------------------------------\u001b[0m",
      "\u001b[0;31mOperationalError\u001b[0m                          Traceback (most recent call last)",
      "\u001b[0;32m<ipython-input-19-c3c89d5817cd>\u001b[0m in \u001b[0;36m<module>\u001b[0;34m\u001b[0m\n\u001b[1;32m      6\u001b[0m \u001b[0;34m\u001b[0m\u001b[0m\n\u001b[1;32m      7\u001b[0m \u001b[0;31m# terminalで実行したSQL文と同じようにexecute()に書く\u001b[0m\u001b[0;34m\u001b[0m\u001b[0;34m\u001b[0m\u001b[0;34m\u001b[0m\u001b[0m\n\u001b[0;32m----> 8\u001b[0;31m \u001b[0mcur\u001b[0m\u001b[0;34m.\u001b[0m\u001b[0mexecute\u001b[0m\u001b[0;34m(\u001b[0m\u001b[0;34m'SELECT * FROM persons'\u001b[0m\u001b[0;34m)\u001b[0m\u001b[0;34m\u001b[0m\u001b[0;34m\u001b[0m\u001b[0m\n\u001b[0m\u001b[1;32m      9\u001b[0m \u001b[0;34m\u001b[0m\u001b[0m\n\u001b[1;32m     10\u001b[0m \u001b[0;31m# 中身を全て取得するfetchall()を使って、printする。\u001b[0m\u001b[0;34m\u001b[0m\u001b[0;34m\u001b[0m\u001b[0;34m\u001b[0m\u001b[0m\n",
      "\u001b[0;31mOperationalError\u001b[0m: no such table: persons"
     ]
    }
   ],
   "source": [
    "import sqlite3\n",
    "\n",
    "dbname = 'TEST.db'\n",
    "conn = sqlite3.connect(dbname)\n",
    "cur = conn.cursor()\n",
    "\n",
    "# terminalで実行したSQL文と同じようにexecute()に書く\n",
    "cur.execute('SELECT * FROM persons')\n",
    "\n",
    "# 中身を全て取得するfetchall()を使って、printする。\n",
    "print(cur.fetchall())\n",
    "\n",
    "cur.close()\n",
    "conn.close()"
   ]
  },
  {
   "cell_type": "code",
   "execution_count": null,
   "metadata": {},
   "outputs": [],
   "source": []
  },
  {
   "cell_type": "code",
   "execution_count": null,
   "metadata": {},
   "outputs": [],
   "source": []
  }
 ],
 "metadata": {
  "kernelspec": {
   "display_name": "Python 3",
   "language": "python",
   "name": "python3"
  },
  "language_info": {
   "codemirror_mode": {
    "name": "ipython",
    "version": 3
   },
   "file_extension": ".py",
   "mimetype": "text/x-python",
   "name": "python",
   "nbconvert_exporter": "python",
   "pygments_lexer": "ipython3",
   "version": "3.7.6"
  }
 },
 "nbformat": 4,
 "nbformat_minor": 4
}
