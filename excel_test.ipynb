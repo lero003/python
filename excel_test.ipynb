{
  "nbformat": 4,
  "nbformat_minor": 0,
  "metadata": {
    "kernelspec": {
      "display_name": "Python 3",
      "language": "python",
      "name": "python3"
    },
    "language_info": {
      "codemirror_mode": {
        "name": "ipython",
        "version": 3
      },
      "file_extension": ".py",
      "mimetype": "text/x-python",
      "name": "python",
      "nbconvert_exporter": "python",
      "pygments_lexer": "ipython3",
      "version": "3.5.3"
    },
    "colab": {
      "name": "excel_test.ipynb",
      "provenance": [],
      "include_colab_link": true
    }
  },
  "cells": [
    {
      "cell_type": "markdown",
      "metadata": {
        "id": "view-in-github",
        "colab_type": "text"
      },
      "source": [
        "<a href=\"https://colab.research.google.com/github/lero003/python/blob/master/excel_test.ipynb\" target=\"_parent\"><img src=\"https://colab.research.google.com/assets/colab-badge.svg\" alt=\"Open In Colab\"/></a>"
      ]
    },
    {
      "cell_type": "code",
      "metadata": {
        "id": "9EAv890VYWMD",
        "colab_type": "code",
        "colab": {}
      },
      "source": [
        "import openpyxl\n",
        "import pandas as pd\n",
        "import glob"
      ],
      "execution_count": null,
      "outputs": []
    },
    {
      "cell_type": "code",
      "metadata": {
        "id": "BVC55egIYWMM",
        "colab_type": "code",
        "colab": {}
      },
      "source": [
        "import_file_path ='sample-1.xlsx'\n",
        "excel_sheet_name = '発注管理表'\n",
        "export_file_path ='/export'"
      ],
      "execution_count": null,
      "outputs": []
    },
    {
      "cell_type": "code",
      "metadata": {
        "id": "HflbLgCvYWMT",
        "colab_type": "code",
        "colab": {}
      },
      "source": [
        "df_order = pd.read_excel(import_file_path, sheet_name = excel_sheet_name)"
      ],
      "execution_count": null,
      "outputs": []
    },
    {
      "cell_type": "code",
      "metadata": {
        "id": "uPpRQ2W9YWMa",
        "colab_type": "code",
        "colab": {},
        "outputId": "70583fdd-c94a-4e5a-a3d4-ccb5b8496d68"
      },
      "source": [
        "df_order"
      ],
      "execution_count": null,
      "outputs": [
        {
          "output_type": "execute_result",
          "data": {
            "text/html": [
              "<div>\n",
              "<style scoped>\n",
              "    .dataframe tbody tr th:only-of-type {\n",
              "        vertical-align: middle;\n",
              "    }\n",
              "\n",
              "    .dataframe tbody tr th {\n",
              "        vertical-align: top;\n",
              "    }\n",
              "\n",
              "    .dataframe thead th {\n",
              "        text-align: right;\n",
              "    }\n",
              "</style>\n",
              "<table border=\"1\" class=\"dataframe\">\n",
              "  <thead>\n",
              "    <tr style=\"text-align: right;\">\n",
              "      <th></th>\n",
              "      <th>会社名</th>\n",
              "      <th>商品番号</th>\n",
              "      <th>商品分類</th>\n",
              "      <th>商品名</th>\n",
              "      <th>単価（円）</th>\n",
              "      <th>数量</th>\n",
              "      <th>発注金額</th>\n",
              "    </tr>\n",
              "  </thead>\n",
              "  <tbody>\n",
              "    <tr>\n",
              "      <th>0</th>\n",
              "      <td>株式会社A</td>\n",
              "      <td>b023</td>\n",
              "      <td>ボトムス</td>\n",
              "      <td>ロングパンツ</td>\n",
              "      <td>7000</td>\n",
              "      <td>8</td>\n",
              "      <td>56000</td>\n",
              "    </tr>\n",
              "    <tr>\n",
              "      <th>1</th>\n",
              "      <td>株式会社A</td>\n",
              "      <td>b003</td>\n",
              "      <td>ボトムス</td>\n",
              "      <td>ジーンズ</td>\n",
              "      <td>6000</td>\n",
              "      <td>10</td>\n",
              "      <td>60000</td>\n",
              "    </tr>\n",
              "    <tr>\n",
              "      <th>2</th>\n",
              "      <td>株式会社A</td>\n",
              "      <td>b003</td>\n",
              "      <td>ボトムス</td>\n",
              "      <td>ロングパンツ</td>\n",
              "      <td>7000</td>\n",
              "      <td>10</td>\n",
              "      <td>70000</td>\n",
              "    </tr>\n",
              "    <tr>\n",
              "      <th>3</th>\n",
              "      <td>株式会社A</td>\n",
              "      <td>b036</td>\n",
              "      <td>ボトムス</td>\n",
              "      <td>ロングパンツ</td>\n",
              "      <td>7000</td>\n",
              "      <td>2</td>\n",
              "      <td>14000</td>\n",
              "    </tr>\n",
              "    <tr>\n",
              "      <th>4</th>\n",
              "      <td>株式会社A</td>\n",
              "      <td>b013</td>\n",
              "      <td>トップス</td>\n",
              "      <td>ニット</td>\n",
              "      <td>8000</td>\n",
              "      <td>7</td>\n",
              "      <td>56000</td>\n",
              "    </tr>\n",
              "    <tr>\n",
              "      <th>...</th>\n",
              "      <td>...</td>\n",
              "      <td>...</td>\n",
              "      <td>...</td>\n",
              "      <td>...</td>\n",
              "      <td>...</td>\n",
              "      <td>...</td>\n",
              "      <td>...</td>\n",
              "    </tr>\n",
              "    <tr>\n",
              "      <th>195</th>\n",
              "      <td>株式会社Y</td>\n",
              "      <td>b013</td>\n",
              "      <td>ボトムス</td>\n",
              "      <td>ハーフパンツ</td>\n",
              "      <td>3000</td>\n",
              "      <td>1</td>\n",
              "      <td>3000</td>\n",
              "    </tr>\n",
              "    <tr>\n",
              "      <th>196</th>\n",
              "      <td>株式会社Y</td>\n",
              "      <td>b036</td>\n",
              "      <td>アウター</td>\n",
              "      <td>ダウン</td>\n",
              "      <td>18000</td>\n",
              "      <td>3</td>\n",
              "      <td>54000</td>\n",
              "    </tr>\n",
              "    <tr>\n",
              "      <th>197</th>\n",
              "      <td>株式会社Z</td>\n",
              "      <td>b003</td>\n",
              "      <td>アウター</td>\n",
              "      <td>ダウン</td>\n",
              "      <td>18000</td>\n",
              "      <td>4</td>\n",
              "      <td>72000</td>\n",
              "    </tr>\n",
              "    <tr>\n",
              "      <th>198</th>\n",
              "      <td>株式会社Z</td>\n",
              "      <td>b047</td>\n",
              "      <td>ボトムス</td>\n",
              "      <td>ハーフパンツ</td>\n",
              "      <td>3000</td>\n",
              "      <td>3</td>\n",
              "      <td>9000</td>\n",
              "    </tr>\n",
              "    <tr>\n",
              "      <th>199</th>\n",
              "      <td>株式会社Z</td>\n",
              "      <td>b036</td>\n",
              "      <td>ボトムス</td>\n",
              "      <td>ロングパンツ</td>\n",
              "      <td>7000</td>\n",
              "      <td>10</td>\n",
              "      <td>70000</td>\n",
              "    </tr>\n",
              "  </tbody>\n",
              "</table>\n",
              "<p>200 rows × 7 columns</p>\n",
              "</div>"
            ],
            "text/plain": [
              "       会社名  商品番号  商品分類     商品名  単価（円）  数量   発注金額\n",
              "0    株式会社A  b023  ボトムス  ロングパンツ   7000   8  56000\n",
              "1    株式会社A  b003  ボトムス    ジーンズ   6000  10  60000\n",
              "2    株式会社A  b003  ボトムス  ロングパンツ   7000  10  70000\n",
              "3    株式会社A  b036  ボトムス  ロングパンツ   7000   2  14000\n",
              "4    株式会社A  b013  トップス     ニット   8000   7  56000\n",
              "..     ...   ...   ...     ...    ...  ..    ...\n",
              "195  株式会社Y  b013  ボトムス  ハーフパンツ   3000   1   3000\n",
              "196  株式会社Y  b036  アウター     ダウン  18000   3  54000\n",
              "197  株式会社Z  b003  アウター     ダウン  18000   4  72000\n",
              "198  株式会社Z  b047  ボトムス  ハーフパンツ   3000   3   9000\n",
              "199  株式会社Z  b036  ボトムス  ロングパンツ   7000  10  70000\n",
              "\n",
              "[200 rows x 7 columns]"
            ]
          },
          "metadata": {
            "tags": []
          },
          "execution_count": 58
        }
      ]
    },
    {
      "cell_type": "code",
      "metadata": {
        "id": "Z8Y3TuReYWMh",
        "colab_type": "code",
        "colab": {}
      },
      "source": [
        "company_name = df_order['会社名'].unique()#会社名をユニークにして取得"
      ],
      "execution_count": null,
      "outputs": []
    },
    {
      "cell_type": "code",
      "metadata": {
        "id": "nU9IiEJ9YWMm",
        "colab_type": "code",
        "colab": {},
        "outputId": "0a33e571-0e4b-49b9-9cfb-30da7735e55f"
      },
      "source": [
        "company_name"
      ],
      "execution_count": null,
      "outputs": [
        {
          "output_type": "execute_result",
          "data": {
            "text/plain": [
              "array(['株式会社A', '株式会社B', '株式会社C', '株式会社D', '株式会社E', '株式会社F', '株式会社G',\n",
              "       '株式会社H', '株式会社I', '株式会社J', '株式会社K', '株式会社L', '株式会社M', '株式会社N',\n",
              "       '株式会社O', '株式会社P', '株式会社Q', '株式会社R', '株式会社S', '株式会社T', '株式会社U',\n",
              "       '株式会社V', '株式会社W', '株式会社X', '株式会社Y', '株式会社Z'], dtype=object)"
            ]
          },
          "metadata": {
            "tags": []
          },
          "execution_count": 60
        }
      ]
    },
    {
      "cell_type": "code",
      "metadata": {
        "id": "0djA-gxvYWMp",
        "colab_type": "code",
        "colab": {},
        "outputId": "1eb4bfd1-21a0-4b6c-f5c6-5a1c9a866fc3"
      },
      "source": [
        "type(company_name)"
      ],
      "execution_count": null,
      "outputs": [
        {
          "output_type": "execute_result",
          "data": {
            "text/plain": [
              "numpy.ndarray"
            ]
          },
          "metadata": {
            "tags": []
          },
          "execution_count": 61
        }
      ]
    },
    {
      "cell_type": "code",
      "metadata": {
        "id": "rm1rcDdEYWMu",
        "colab_type": "code",
        "colab": {},
        "outputId": "f1207bbd-b6cc-4d5f-e7e8-e9d208815766"
      },
      "source": [
        "type(df_order)"
      ],
      "execution_count": null,
      "outputs": [
        {
          "output_type": "execute_result",
          "data": {
            "text/plain": [
              "pandas.core.frame.DataFrame"
            ]
          },
          "metadata": {
            "tags": []
          },
          "execution_count": 62
        }
      ]
    },
    {
      "cell_type": "code",
      "metadata": {
        "id": "HdT_C5B2YWMx",
        "colab_type": "code",
        "colab": {},
        "outputId": "ffe86a38-c852-4823-9b81-335b55353b98"
      },
      "source": [
        "df_order['会社名'] == '株式会社A'"
      ],
      "execution_count": null,
      "outputs": [
        {
          "output_type": "execute_result",
          "data": {
            "text/plain": [
              "0       True\n",
              "1       True\n",
              "2       True\n",
              "3       True\n",
              "4       True\n",
              "       ...  \n",
              "195    False\n",
              "196    False\n",
              "197    False\n",
              "198    False\n",
              "199    False\n",
              "Name: 会社名, Length: 200, dtype: bool"
            ]
          },
          "metadata": {
            "tags": []
          },
          "execution_count": 63
        }
      ]
    },
    {
      "cell_type": "code",
      "metadata": {
        "id": "Kdr5y16nYWM1",
        "colab_type": "code",
        "colab": {},
        "outputId": "ab9256c5-37fe-49ff-89b7-cef83c87a7f7"
      },
      "source": [
        "df_order[df_order['会社名'] == '株式会社A']"
      ],
      "execution_count": null,
      "outputs": [
        {
          "output_type": "execute_result",
          "data": {
            "text/html": [
              "<div>\n",
              "<style scoped>\n",
              "    .dataframe tbody tr th:only-of-type {\n",
              "        vertical-align: middle;\n",
              "    }\n",
              "\n",
              "    .dataframe tbody tr th {\n",
              "        vertical-align: top;\n",
              "    }\n",
              "\n",
              "    .dataframe thead th {\n",
              "        text-align: right;\n",
              "    }\n",
              "</style>\n",
              "<table border=\"1\" class=\"dataframe\">\n",
              "  <thead>\n",
              "    <tr style=\"text-align: right;\">\n",
              "      <th></th>\n",
              "      <th>会社名</th>\n",
              "      <th>商品番号</th>\n",
              "      <th>商品分類</th>\n",
              "      <th>商品名</th>\n",
              "      <th>単価（円）</th>\n",
              "      <th>数量</th>\n",
              "      <th>発注金額</th>\n",
              "    </tr>\n",
              "  </thead>\n",
              "  <tbody>\n",
              "    <tr>\n",
              "      <th>0</th>\n",
              "      <td>株式会社A</td>\n",
              "      <td>b023</td>\n",
              "      <td>ボトムス</td>\n",
              "      <td>ロングパンツ</td>\n",
              "      <td>7000</td>\n",
              "      <td>8</td>\n",
              "      <td>56000</td>\n",
              "    </tr>\n",
              "    <tr>\n",
              "      <th>1</th>\n",
              "      <td>株式会社A</td>\n",
              "      <td>b003</td>\n",
              "      <td>ボトムス</td>\n",
              "      <td>ジーンズ</td>\n",
              "      <td>6000</td>\n",
              "      <td>10</td>\n",
              "      <td>60000</td>\n",
              "    </tr>\n",
              "    <tr>\n",
              "      <th>2</th>\n",
              "      <td>株式会社A</td>\n",
              "      <td>b003</td>\n",
              "      <td>ボトムス</td>\n",
              "      <td>ロングパンツ</td>\n",
              "      <td>7000</td>\n",
              "      <td>10</td>\n",
              "      <td>70000</td>\n",
              "    </tr>\n",
              "    <tr>\n",
              "      <th>3</th>\n",
              "      <td>株式会社A</td>\n",
              "      <td>b036</td>\n",
              "      <td>ボトムス</td>\n",
              "      <td>ロングパンツ</td>\n",
              "      <td>7000</td>\n",
              "      <td>2</td>\n",
              "      <td>14000</td>\n",
              "    </tr>\n",
              "    <tr>\n",
              "      <th>4</th>\n",
              "      <td>株式会社A</td>\n",
              "      <td>b013</td>\n",
              "      <td>トップス</td>\n",
              "      <td>ニット</td>\n",
              "      <td>8000</td>\n",
              "      <td>7</td>\n",
              "      <td>56000</td>\n",
              "    </tr>\n",
              "    <tr>\n",
              "      <th>5</th>\n",
              "      <td>株式会社A</td>\n",
              "      <td>b047</td>\n",
              "      <td>アウター</td>\n",
              "      <td>ダウン</td>\n",
              "      <td>18000</td>\n",
              "      <td>7</td>\n",
              "      <td>126000</td>\n",
              "    </tr>\n",
              "    <tr>\n",
              "      <th>6</th>\n",
              "      <td>株式会社A</td>\n",
              "      <td>b013</td>\n",
              "      <td>トップス</td>\n",
              "      <td>ニット</td>\n",
              "      <td>8000</td>\n",
              "      <td>5</td>\n",
              "      <td>40000</td>\n",
              "    </tr>\n",
              "    <tr>\n",
              "      <th>7</th>\n",
              "      <td>株式会社A</td>\n",
              "      <td>b013</td>\n",
              "      <td>ボトムス</td>\n",
              "      <td>ハーフパンツ</td>\n",
              "      <td>3000</td>\n",
              "      <td>9</td>\n",
              "      <td>27000</td>\n",
              "    </tr>\n",
              "    <tr>\n",
              "      <th>8</th>\n",
              "      <td>株式会社A</td>\n",
              "      <td>b047</td>\n",
              "      <td>ボトムス</td>\n",
              "      <td>ロングパンツ</td>\n",
              "      <td>7000</td>\n",
              "      <td>1</td>\n",
              "      <td>7000</td>\n",
              "    </tr>\n",
              "    <tr>\n",
              "      <th>9</th>\n",
              "      <td>株式会社A</td>\n",
              "      <td>b036</td>\n",
              "      <td>ボトムス</td>\n",
              "      <td>ハーフパンツ</td>\n",
              "      <td>3000</td>\n",
              "      <td>5</td>\n",
              "      <td>15000</td>\n",
              "    </tr>\n",
              "    <tr>\n",
              "      <th>10</th>\n",
              "      <td>株式会社A</td>\n",
              "      <td>b003</td>\n",
              "      <td>トップス</td>\n",
              "      <td>シャツ</td>\n",
              "      <td>4000</td>\n",
              "      <td>1</td>\n",
              "      <td>4000</td>\n",
              "    </tr>\n",
              "    <tr>\n",
              "      <th>11</th>\n",
              "      <td>株式会社A</td>\n",
              "      <td>b003</td>\n",
              "      <td>アウター</td>\n",
              "      <td>ダウン</td>\n",
              "      <td>18000</td>\n",
              "      <td>1</td>\n",
              "      <td>18000</td>\n",
              "    </tr>\n",
              "  </tbody>\n",
              "</table>\n",
              "</div>"
            ],
            "text/plain": [
              "      会社名  商品番号  商品分類     商品名  単価（円）  数量    発注金額\n",
              "0   株式会社A  b023  ボトムス  ロングパンツ   7000   8   56000\n",
              "1   株式会社A  b003  ボトムス    ジーンズ   6000  10   60000\n",
              "2   株式会社A  b003  ボトムス  ロングパンツ   7000  10   70000\n",
              "3   株式会社A  b036  ボトムス  ロングパンツ   7000   2   14000\n",
              "4   株式会社A  b013  トップス     ニット   8000   7   56000\n",
              "5   株式会社A  b047  アウター     ダウン  18000   7  126000\n",
              "6   株式会社A  b013  トップス     ニット   8000   5   40000\n",
              "7   株式会社A  b013  ボトムス  ハーフパンツ   3000   9   27000\n",
              "8   株式会社A  b047  ボトムス  ロングパンツ   7000   1    7000\n",
              "9   株式会社A  b036  ボトムス  ハーフパンツ   3000   5   15000\n",
              "10  株式会社A  b003  トップス     シャツ   4000   1    4000\n",
              "11  株式会社A  b003  アウター     ダウン  18000   1   18000"
            ]
          },
          "metadata": {
            "tags": []
          },
          "execution_count": 64
        }
      ]
    },
    {
      "cell_type": "code",
      "metadata": {
        "collapsed": true,
        "jupyter": {
          "outputs_hidden": true
        },
        "id": "P8sv_6zjYWM4",
        "colab_type": "code",
        "colab": {},
        "outputId": "b5d6f8a8-e6a7-4ffe-dde2-6908c3d1273d"
      },
      "source": [
        "for i in company_name:\n",
        "    df_order_company = df_order[df_order['会社名'] == i]\n",
        "    print(df_order_company)"
      ],
      "execution_count": null,
      "outputs": [
        {
          "output_type": "stream",
          "text": [
            "      会社名  商品番号  商品分類     商品名  単価（円）  数量    発注金額\n",
            "0   株式会社A  b023  ボトムス  ロングパンツ   7000   8   56000\n",
            "1   株式会社A  b003  ボトムス    ジーンズ   6000  10   60000\n",
            "2   株式会社A  b003  ボトムス  ロングパンツ   7000  10   70000\n",
            "3   株式会社A  b036  ボトムス  ロングパンツ   7000   2   14000\n",
            "4   株式会社A  b013  トップス     ニット   8000   7   56000\n",
            "5   株式会社A  b047  アウター     ダウン  18000   7  126000\n",
            "6   株式会社A  b013  トップス     ニット   8000   5   40000\n",
            "7   株式会社A  b013  ボトムス  ハーフパンツ   3000   9   27000\n",
            "8   株式会社A  b047  ボトムス  ロングパンツ   7000   1    7000\n",
            "9   株式会社A  b036  ボトムス  ハーフパンツ   3000   5   15000\n",
            "10  株式会社A  b003  トップス     シャツ   4000   1    4000\n",
            "11  株式会社A  b003  アウター     ダウン  18000   1   18000\n",
            "      会社名  商品番号  商品分類     商品名  単価（円）  数量   発注金額\n",
            "12  株式会社B  b036  アウター     ダウン  18000   3  54000\n",
            "13  株式会社B  b047  トップス     シャツ   4000   1   4000\n",
            "14  株式会社B  b003  ボトムス  ロングパンツ   7000   6  42000\n",
            "15  株式会社B  b036  トップス     シャツ   4000   5  20000\n",
            "16  株式会社B  b003  トップス     シャツ   4000   6  24000\n",
            "17  株式会社B  b013  ボトムス  ロングパンツ   7000   5  35000\n",
            "18  株式会社B  b003  ボトムス  ロングパンツ   7000   4  28000\n",
            "19  株式会社B  b036  トップス     シャツ   4000   5  20000\n",
            "      会社名  商品番号  商品分類     商品名  単価（円）  数量    発注金額\n",
            "20  株式会社C  b047  アウター     ダウン  18000   8  144000\n",
            "21  株式会社C  b047  ボトムス  ハーフパンツ   3000   9   27000\n",
            "22  株式会社C  b047  ボトムス  ロングパンツ   7000   3   21000\n",
            "23  株式会社C  b047  トップス     ニット   8000   2   16000\n",
            "24  株式会社C  b003  アウター     ダウン  18000   4   72000\n",
            "25  株式会社C  b023  アウター   ジャケット  10000   7   70000\n",
            "26  株式会社C  b013  ボトムス  ロングパンツ   7000  10   70000\n",
            "27  株式会社C  b047  ボトムス  ロングパンツ   7000   5   35000\n",
            "      会社名  商品番号  商品分類     商品名  単価（円）  数量   発注金額\n",
            "28  株式会社D  b036  トップス     シャツ   4000   1   4000\n",
            "29  株式会社D  b003  アウター   ジャケット  10000   1  10000\n",
            "30  株式会社D  b036  ボトムス  ハーフパンツ   3000   3   9000\n",
            "31  株式会社D  b036  ボトムス  ハーフパンツ   3000   7  21000\n",
            "32  株式会社D  b013  トップス     ニット   8000   7  56000\n",
            "33  株式会社D  b013  トップス     シャツ   4000   4  16000\n",
            "34  株式会社D  b023  トップス     シャツ   4000   4  16000\n",
            "35  株式会社D  b023  ボトムス  ロングパンツ   7000   9  63000\n",
            "36  株式会社D  b003  ボトムス    ジーンズ   6000   2  12000\n",
            "37  株式会社D  b013  ボトムス  ロングパンツ   7000   6  42000\n",
            "38  株式会社D  b047  アウター   ジャケット  10000   9  90000\n",
            "39  株式会社D  b013  ボトムス    ジーンズ   6000   1   6000\n",
            "40  株式会社D  b036  アウター     ダウン  18000   1  18000\n",
            "41  株式会社D  b013  ボトムス  ロングパンツ   7000   8  56000\n",
            "42  株式会社D  b013  ボトムス  ハーフパンツ   3000   5  15000\n",
            "43  株式会社D  b013  トップス     シャツ   4000   6  24000\n",
            "44  株式会社D  b036  トップス     シャツ   4000   8  32000\n",
            "45  株式会社D  b023  ボトムス  ハーフパンツ   3000   8  24000\n",
            "46  株式会社D  b003  ボトムス  ロングパンツ   7000   3  21000\n",
            "      会社名  商品番号  商品分類     商品名  単価（円）  数量   発注金額\n",
            "47  株式会社E  b047  トップス     ニット   8000   8  64000\n",
            "48  株式会社E  b003  ボトムス  ロングパンツ   7000   8  56000\n",
            "49  株式会社E  b023  トップス     ニット   8000  10  80000\n",
            "      会社名  商品番号  商品分類     商品名  単価（円）  数量   発注金額\n",
            "50  株式会社F  b003  ボトムス  ロングパンツ   7000   3  21000\n",
            "51  株式会社F  b003  ボトムス    ジーンズ   6000   4  24000\n",
            "52  株式会社F  b036  アウター   ジャケット  10000   3  30000\n",
            "53  株式会社F  b003  トップス     ニット   8000   1   8000\n",
            "54  株式会社F  b003  トップス     ニット   8000   6  48000\n",
            "55  株式会社F  b036  トップス     ニット   8000   3  24000\n",
            "56  株式会社F  b013  アウター   ジャケット  10000   7  70000\n",
            "57  株式会社F  b023  ボトムス    ジーンズ   6000   4  24000\n",
            "58  株式会社F  b023  ボトムス    ジーンズ   6000   1   6000\n",
            "59  株式会社F  b047  トップス     シャツ   4000  10  40000\n",
            "60  株式会社F  b013  ボトムス    ジーンズ   6000   5  30000\n",
            "61  株式会社F  b003  アウター   ジャケット  10000   6  60000\n",
            "      会社名  商品番号  商品分類     商品名  単価（円）  数量    発注金額\n",
            "62  株式会社G  b023  トップス     ニット   8000   6   48000\n",
            "63  株式会社G  b036  アウター   ジャケット  10000  10  100000\n",
            "64  株式会社G  b003  ボトムス  ロングパンツ   7000   6   42000\n",
            "65  株式会社G  b036  ボトムス  ロングパンツ   7000   1    7000\n",
            "66  株式会社G  b023  トップス     ニット   8000  10   80000\n",
            "67  株式会社G  b003  トップス     シャツ   4000   7   28000\n",
            "68  株式会社G  b003  ボトムス    ジーンズ   6000   5   30000\n",
            "69  株式会社G  b047  ボトムス  ハーフパンツ   3000   6   18000\n",
            "70  株式会社G  b023  アウター     ダウン  18000   4   72000\n",
            "71  株式会社G  b013  ボトムス    ジーンズ   6000   7   42000\n",
            "72  株式会社G  b023  トップス     ニット   8000   4   32000\n",
            "73  株式会社G  b047  アウター   ジャケット  10000   6   60000\n",
            "      会社名  商品番号  商品分類     商品名  単価（円）  数量    発注金額\n",
            "74  株式会社H  b003  ボトムス  ロングパンツ   7000   7   49000\n",
            "75  株式会社H  b023  トップス     シャツ   4000   1    4000\n",
            "76  株式会社H  b023  アウター     ダウン  18000   9  162000\n",
            "      会社名  商品番号  商品分類     商品名  単価（円）  数量   発注金額\n",
            "77  株式会社I  b036  ボトムス  ロングパンツ   7000   2  14000\n",
            "78  株式会社I  b003  トップス     ニット   8000   8  64000\n",
            "79  株式会社I  b023  ボトムス    ジーンズ   6000   5  30000\n",
            "80  株式会社I  b036  トップス     ニット   8000   2  16000\n",
            "81  株式会社I  b003  トップス     ニット   8000   5  40000\n",
            "82  株式会社I  b047  ボトムス  ロングパンツ   7000   6  42000\n",
            "      会社名  商品番号  商品分類   商品名  単価（円）  数量   発注金額\n",
            "83  株式会社J  b036  トップス   ニット   8000   5  40000\n",
            "84  株式会社J  b013  ボトムス  ジーンズ   6000  10  60000\n",
            "      会社名  商品番号  商品分類     商品名  単価（円）  数量   発注金額\n",
            "85  株式会社K  b003  トップス     ニット   8000   8  64000\n",
            "86  株式会社K  b013  ボトムス  ハーフパンツ   3000   2   6000\n",
            "87  株式会社K  b036  ボトムス    ジーンズ   6000  10  60000\n",
            "      会社名  商品番号  商品分類     商品名  単価（円）  数量   発注金額\n",
            "88  株式会社L  b023  アウター   ジャケット  10000   2  20000\n",
            "89  株式会社L  b003  ボトムス  ハーフパンツ   3000   7  21000\n",
            "90  株式会社L  b013  ボトムス  ロングパンツ   7000   5  35000\n",
            "      会社名  商品番号  商品分類     商品名  単価（円）  数量    発注金額\n",
            "91  株式会社M  b047  アウター     ダウン  18000   7  126000\n",
            "92  株式会社M  b023  ボトムス  ハーフパンツ   3000   4   12000\n",
            "      会社名  商品番号  商品分類     商品名  単価（円）  数量    発注金額\n",
            "93  株式会社N  b013  ボトムス  ハーフパンツ   3000  10   30000\n",
            "94  株式会社N  b023  ボトムス    ジーンズ   6000   4   24000\n",
            "95  株式会社N  b036  アウター     ダウン  18000   7  126000\n",
            "96  株式会社N  b047  アウター   ジャケット  10000   9   90000\n",
            "      会社名  商品番号  商品分類     商品名  単価（円）  数量   発注金額\n",
            "97  株式会社O  b003  トップス     ニット   8000   8  64000\n",
            "98  株式会社O  b003  アウター   ジャケット  10000   1  10000\n",
            "99  株式会社O  b003  ボトムス  ハーフパンツ   3000   4  12000\n",
            "       会社名  商品番号  商品分類  商品名  単価（円）  数量   発注金額\n",
            "100  株式会社P  b003  トップス  ニット   8000   7  56000\n",
            "       会社名  商品番号  商品分類     商品名  単価（円）  数量   発注金額\n",
            "101  株式会社Q  b003  ボトムス  ロングパンツ   7000   8  56000\n",
            "102  株式会社Q  b013  アウター   ジャケット  10000   2  20000\n",
            "103  株式会社Q  b023  トップス     ニット   8000   6  48000\n",
            "104  株式会社Q  b047  ボトムス  ハーフパンツ   3000  10  30000\n",
            "105  株式会社Q  b013  ボトムス  ロングパンツ   7000   9  63000\n",
            "106  株式会社Q  b023  ボトムス    ジーンズ   6000   1   6000\n",
            "107  株式会社Q  b003  トップス     シャツ   4000   7  28000\n",
            "108  株式会社Q  b003  ボトムス  ハーフパンツ   3000   1   3000\n",
            "109  株式会社Q  b023  ボトムス  ロングパンツ   7000   5  35000\n",
            "       会社名  商品番号  商品分類     商品名  単価（円）  数量    発注金額\n",
            "110  株式会社R  b023  トップス     シャツ   4000   1    4000\n",
            "111  株式会社R  b013  ボトムス  ロングパンツ   7000   8   56000\n",
            "112  株式会社R  b023  ボトムス    ジーンズ   6000   8   48000\n",
            "113  株式会社R  b023  ボトムス  ロングパンツ   7000   1    7000\n",
            "114  株式会社R  b036  アウター     ダウン  18000   8  144000\n",
            "115  株式会社R  b003  ボトムス  ロングパンツ   7000   5   35000\n",
            "116  株式会社R  b003  アウター     ダウン  18000   3   54000\n",
            "117  株式会社R  b023  ボトムス    ジーンズ   6000   3   18000\n",
            "118  株式会社R  b003  ボトムス  ハーフパンツ   3000   9   27000\n",
            "119  株式会社R  b023  アウター   ジャケット  10000   7   70000\n",
            "120  株式会社R  b003  トップス     ニット   8000   1    8000\n",
            "121  株式会社R  b003  ボトムス    ジーンズ   6000   3   18000\n",
            "122  株式会社R  b036  アウター     ダウン  18000  10  180000\n",
            "123  株式会社R  b013  アウター     ダウン  18000   9  162000\n",
            "124  株式会社R  b023  アウター   ジャケット  10000   4   40000\n",
            "125  株式会社R  b036  ボトムス  ハーフパンツ   3000   6   18000\n",
            "126  株式会社R  b003  ボトムス  ロングパンツ   7000   9   63000\n",
            "127  株式会社R  b003  アウター     ダウン  18000   4   72000\n",
            "128  株式会社R  b023  アウター   ジャケット  10000   6   60000\n",
            "129  株式会社R  b013  ボトムス  ロングパンツ   7000   1    7000\n",
            "130  株式会社R  b013  ボトムス    ジーンズ   6000   6   36000\n",
            "131  株式会社R  b023  アウター     ダウン  18000   1   18000\n",
            "132  株式会社R  b013  ボトムス    ジーンズ   6000   7   42000\n",
            "133  株式会社R  b013  アウター     ダウン  18000   4   72000\n",
            "134  株式会社R  b023  アウター   ジャケット  10000   1   10000\n",
            "135  株式会社R  b013  トップス     シャツ   4000   7   28000\n",
            "       会社名  商品番号  商品分類     商品名  単価（円）  数量   発注金額\n",
            "136  株式会社S  b013  ボトムス  ロングパンツ   7000   6  42000\n",
            "137  株式会社S  b036  ボトムス  ハーフパンツ   3000   2   6000\n",
            "138  株式会社S  b036  トップス     ニット   8000   7  56000\n",
            "139  株式会社S  b047  ボトムス  ロングパンツ   7000   4  28000\n",
            "140  株式会社S  b003  ボトムス  ロングパンツ   7000   6  42000\n",
            "       会社名  商品番号  商品分類     商品名  単価（円）  数量    発注金額\n",
            "141  株式会社T  b047  トップス     シャツ   4000   7   28000\n",
            "142  株式会社T  b013  ボトムス    ジーンズ   6000   8   48000\n",
            "143  株式会社T  b003  アウター   ジャケット  10000   9   90000\n",
            "144  株式会社T  b023  アウター     ダウン  18000   8  144000\n",
            "145  株式会社T  b023  トップス     シャツ   4000   8   32000\n",
            "146  株式会社T  b003  アウター   ジャケット  10000  10  100000\n",
            "147  株式会社T  b003  トップス     シャツ   4000   2    8000\n",
            "148  株式会社T  b036  ボトムス  ロングパンツ   7000   7   49000\n",
            "149  株式会社T  b036  トップス     シャツ   4000   6   24000\n",
            "150  株式会社T  b047  ボトムス    ジーンズ   6000   4   24000\n",
            "151  株式会社T  b023  トップス     ニット   8000   8   64000\n",
            "       会社名  商品番号  商品分類     商品名  単価（円）  数量   発注金額\n",
            "152  株式会社U  b003  アウター     ダウン  18000   3  54000\n",
            "153  株式会社U  b013  アウター   ジャケット  10000   8  80000\n",
            "154  株式会社U  b023  ボトムス  ハーフパンツ   3000   3   9000\n",
            "155  株式会社U  b013  トップス     ニット   8000   5  40000\n",
            "156  株式会社U  b047  トップス     ニット   8000  10  80000\n",
            "157  株式会社U  b036  トップス     シャツ   4000   8  32000\n",
            "158  株式会社U  b047  ボトムス  ハーフパンツ   3000   3   9000\n",
            "159  株式会社U  b013  ボトムス  ロングパンツ   7000   1   7000\n",
            "160  株式会社U  b003  アウター   ジャケット  10000   7  70000\n",
            "161  株式会社U  b003  トップス     ニット   8000   7  56000\n",
            "162  株式会社U  b023  ボトムス  ハーフパンツ   3000   8  24000\n",
            "163  株式会社U  b047  ボトムス  ロングパンツ   7000   9  63000\n",
            "164  株式会社U  b003  アウター   ジャケット  10000   2  20000\n",
            "165  株式会社U  b013  トップス     ニット   8000  10  80000\n",
            "       会社名  商品番号  商品分類     商品名  単価（円）  数量   発注金額\n",
            "166  株式会社V  b023  トップス     ニット   8000   1   8000\n",
            "167  株式会社V  b036  ボトムス    ジーンズ   6000   5  30000\n",
            "168  株式会社V  b036  ボトムス    ジーンズ   6000   8  48000\n",
            "169  株式会社V  b023  トップス     シャツ   4000   2   8000\n",
            "170  株式会社V  b036  アウター   ジャケット  10000   1  10000\n",
            "171  株式会社V  b036  アウター   ジャケット  10000   7  70000\n",
            "172  株式会社V  b003  アウター   ジャケット  10000   5  50000\n",
            "173  株式会社V  b013  ボトムス  ロングパンツ   7000   5  35000\n",
            "174  株式会社V  b013  ボトムス    ジーンズ   6000   8  48000\n",
            "175  株式会社V  b047  トップス     ニット   8000   8  64000\n",
            "       会社名  商品番号  商品分類     商品名  単価（円）  数量    発注金額\n",
            "176  株式会社W  b003  アウター     ダウン  18000  10  180000\n",
            "177  株式会社W  b047  ボトムス  ロングパンツ   7000   7   49000\n",
            "178  株式会社W  b023  アウター     ダウン  18000   7  126000\n",
            "179  株式会社W  b047  ボトムス    ジーンズ   6000   9   54000\n",
            "180  株式会社W  b003  ボトムス  ハーフパンツ   3000   5   15000\n",
            "181  株式会社W  b013  ボトムス    ジーンズ   6000   7   42000\n",
            "182  株式会社W  b003  ボトムス    ジーンズ   6000   2   12000\n",
            "183  株式会社W  b003  ボトムス    ジーンズ   6000   6   36000\n",
            "184  株式会社W  b003  ボトムス  ロングパンツ   7000   7   49000\n",
            "       会社名  商品番号  商品分類     商品名  単価（円）  数量    発注金額\n",
            "185  株式会社X  b003  ボトムス  ハーフパンツ   3000   3    9000\n",
            "186  株式会社X  b023  ボトムス    ジーンズ   6000   4   24000\n",
            "187  株式会社X  b003  アウター   ジャケット  10000   9   90000\n",
            "188  株式会社X  b003  トップス     ニット   8000   8   64000\n",
            "189  株式会社X  b023  アウター     ダウン  18000   7  126000\n",
            "190  株式会社X  b003  ボトムス  ハーフパンツ   3000   5   15000\n",
            "191  株式会社X  b013  アウター   ジャケット  10000   6   60000\n",
            "       会社名  商品番号  商品分類     商品名  単価（円）  数量   発注金額\n",
            "192  株式会社Y  b036  トップス     シャツ   4000   6  24000\n",
            "193  株式会社Y  b023  ボトムス    ジーンズ   6000   8  48000\n",
            "194  株式会社Y  b003  ボトムス  ハーフパンツ   3000   5  15000\n",
            "195  株式会社Y  b013  ボトムス  ハーフパンツ   3000   1   3000\n",
            "196  株式会社Y  b036  アウター     ダウン  18000   3  54000\n",
            "       会社名  商品番号  商品分類     商品名  単価（円）  数量   発注金額\n",
            "197  株式会社Z  b003  アウター     ダウン  18000   4  72000\n",
            "198  株式会社Z  b047  ボトムス  ハーフパンツ   3000   3   9000\n",
            "199  株式会社Z  b036  ボトムス  ロングパンツ   7000  10  70000\n"
          ],
          "name": "stdout"
        }
      ]
    },
    {
      "cell_type": "code",
      "metadata": {
        "id": "sB0HzFu2YWM7",
        "colab_type": "code",
        "colab": {},
        "outputId": "18ec0836-9359-4845-d3e1-915fcfec170c"
      },
      "source": [
        "for i in company_name:\n",
        "    df_order_company = df_order[df_order['会社名'] == i]\n",
        "    df_order_company.to_excel(export_file_path+'/'+i+'.xlsx')"
      ],
      "execution_count": null,
      "outputs": [
        {
          "output_type": "error",
          "ename": "FileNotFoundError",
          "evalue": "[Errno 2] No such file or directory: '/export/株式会社A.xlsx'",
          "traceback": [
            "\u001b[0;31m---------------------------------------------------------------------------\u001b[0m",
            "\u001b[0;31mFileNotFoundError\u001b[0m                         Traceback (most recent call last)",
            "\u001b[0;32m<ipython-input-71-f02548b0d5b0>\u001b[0m in \u001b[0;36m<module>\u001b[0;34m\u001b[0m\n\u001b[1;32m      1\u001b[0m \u001b[0;32mfor\u001b[0m \u001b[0mi\u001b[0m \u001b[0;32min\u001b[0m \u001b[0mcompany_name\u001b[0m\u001b[0;34m:\u001b[0m\u001b[0;34m\u001b[0m\u001b[0m\n\u001b[1;32m      2\u001b[0m     \u001b[0mdf_order_company\u001b[0m \u001b[0;34m=\u001b[0m \u001b[0mdf_order\u001b[0m\u001b[0;34m[\u001b[0m\u001b[0mdf_order\u001b[0m\u001b[0;34m[\u001b[0m\u001b[0;34m'会社名'\u001b[0m\u001b[0;34m]\u001b[0m \u001b[0;34m==\u001b[0m \u001b[0mi\u001b[0m\u001b[0;34m]\u001b[0m\u001b[0;34m\u001b[0m\u001b[0m\n\u001b[0;32m----> 3\u001b[0;31m     \u001b[0mdf_order_company\u001b[0m\u001b[0;34m.\u001b[0m\u001b[0mto_excel\u001b[0m\u001b[0;34m(\u001b[0m\u001b[0mexport_file_path\u001b[0m\u001b[0;34m+\u001b[0m\u001b[0;34m'/'\u001b[0m\u001b[0;34m+\u001b[0m\u001b[0mi\u001b[0m\u001b[0;34m+\u001b[0m\u001b[0;34m'.xlsx'\u001b[0m\u001b[0;34m)\u001b[0m\u001b[0;34m\u001b[0m\u001b[0m\n\u001b[0m",
            "\u001b[0;32m~/.local/lib/python3.5/site-packages/pandas/core/generic.py\u001b[0m in \u001b[0;36mto_excel\u001b[0;34m(self, excel_writer, sheet_name, na_rep, float_format, columns, header, index, index_label, startrow, startcol, engine, merge_cells, encoding, inf_rep, verbose, freeze_panes)\u001b[0m\n\u001b[1;32m   2254\u001b[0m             \u001b[0mstartcol\u001b[0m\u001b[0;34m=\u001b[0m\u001b[0mstartcol\u001b[0m\u001b[0;34m,\u001b[0m\u001b[0;34m\u001b[0m\u001b[0m\n\u001b[1;32m   2255\u001b[0m             \u001b[0mfreeze_panes\u001b[0m\u001b[0;34m=\u001b[0m\u001b[0mfreeze_panes\u001b[0m\u001b[0;34m,\u001b[0m\u001b[0;34m\u001b[0m\u001b[0m\n\u001b[0;32m-> 2256\u001b[0;31m             \u001b[0mengine\u001b[0m\u001b[0;34m=\u001b[0m\u001b[0mengine\u001b[0m\u001b[0;34m,\u001b[0m\u001b[0;34m\u001b[0m\u001b[0m\n\u001b[0m\u001b[1;32m   2257\u001b[0m         )\n\u001b[1;32m   2258\u001b[0m \u001b[0;34m\u001b[0m\u001b[0m\n",
            "\u001b[0;32m~/.local/lib/python3.5/site-packages/pandas/io/formats/excel.py\u001b[0m in \u001b[0;36mwrite\u001b[0;34m(self, writer, sheet_name, startrow, startcol, freeze_panes, engine)\u001b[0m\n\u001b[1;32m    740\u001b[0m         )\n\u001b[1;32m    741\u001b[0m         \u001b[0;32mif\u001b[0m \u001b[0mneed_save\u001b[0m\u001b[0;34m:\u001b[0m\u001b[0;34m\u001b[0m\u001b[0m\n\u001b[0;32m--> 742\u001b[0;31m             \u001b[0mwriter\u001b[0m\u001b[0;34m.\u001b[0m\u001b[0msave\u001b[0m\u001b[0;34m(\u001b[0m\u001b[0;34m)\u001b[0m\u001b[0;34m\u001b[0m\u001b[0m\n\u001b[0m",
            "\u001b[0;32m~/.local/lib/python3.5/site-packages/pandas/io/excel/_openpyxl.py\u001b[0m in \u001b[0;36msave\u001b[0;34m(self)\u001b[0m\n\u001b[1;32m     42\u001b[0m         \u001b[0mSave\u001b[0m \u001b[0mworkbook\u001b[0m \u001b[0mto\u001b[0m \u001b[0mdisk\u001b[0m\u001b[0;34m.\u001b[0m\u001b[0;34m\u001b[0m\u001b[0m\n\u001b[1;32m     43\u001b[0m         \"\"\"\n\u001b[0;32m---> 44\u001b[0;31m         \u001b[0;32mreturn\u001b[0m \u001b[0mself\u001b[0m\u001b[0;34m.\u001b[0m\u001b[0mbook\u001b[0m\u001b[0;34m.\u001b[0m\u001b[0msave\u001b[0m\u001b[0;34m(\u001b[0m\u001b[0mself\u001b[0m\u001b[0;34m.\u001b[0m\u001b[0mpath\u001b[0m\u001b[0;34m)\u001b[0m\u001b[0;34m\u001b[0m\u001b[0m\n\u001b[0m\u001b[1;32m     45\u001b[0m \u001b[0;34m\u001b[0m\u001b[0m\n\u001b[1;32m     46\u001b[0m     \u001b[0;34m@\u001b[0m\u001b[0mclassmethod\u001b[0m\u001b[0;34m\u001b[0m\u001b[0m\n",
            "\u001b[0;32m/usr/local/lib/python3.5/dist-packages/openpyxl/workbook/workbook.py\u001b[0m in \u001b[0;36msave\u001b[0;34m(self, filename)\u001b[0m\n\u001b[1;32m    407\u001b[0m         \u001b[0;32mif\u001b[0m \u001b[0mself\u001b[0m\u001b[0;34m.\u001b[0m\u001b[0mwrite_only\u001b[0m \u001b[0;32mand\u001b[0m \u001b[0;32mnot\u001b[0m \u001b[0mself\u001b[0m\u001b[0;34m.\u001b[0m\u001b[0mworksheets\u001b[0m\u001b[0;34m:\u001b[0m\u001b[0;34m\u001b[0m\u001b[0m\n\u001b[1;32m    408\u001b[0m             \u001b[0mself\u001b[0m\u001b[0;34m.\u001b[0m\u001b[0mcreate_sheet\u001b[0m\u001b[0;34m(\u001b[0m\u001b[0;34m)\u001b[0m\u001b[0;34m\u001b[0m\u001b[0m\n\u001b[0;32m--> 409\u001b[0;31m         \u001b[0msave_workbook\u001b[0m\u001b[0;34m(\u001b[0m\u001b[0mself\u001b[0m\u001b[0;34m,\u001b[0m \u001b[0mfilename\u001b[0m\u001b[0;34m)\u001b[0m\u001b[0;34m\u001b[0m\u001b[0m\n\u001b[0m\u001b[1;32m    410\u001b[0m \u001b[0;34m\u001b[0m\u001b[0m\n\u001b[1;32m    411\u001b[0m \u001b[0;34m\u001b[0m\u001b[0m\n",
            "\u001b[0;32m/usr/local/lib/python3.5/dist-packages/openpyxl/writer/excel.py\u001b[0m in \u001b[0;36msave_workbook\u001b[0;34m(workbook, filename)\u001b[0m\n\u001b[1;32m    290\u001b[0m \u001b[0;34m\u001b[0m\u001b[0m\n\u001b[1;32m    291\u001b[0m     \"\"\"\n\u001b[0;32m--> 292\u001b[0;31m     \u001b[0marchive\u001b[0m \u001b[0;34m=\u001b[0m \u001b[0mZipFile\u001b[0m\u001b[0;34m(\u001b[0m\u001b[0mfilename\u001b[0m\u001b[0;34m,\u001b[0m \u001b[0;34m'w'\u001b[0m\u001b[0;34m,\u001b[0m \u001b[0mZIP_DEFLATED\u001b[0m\u001b[0;34m,\u001b[0m \u001b[0mallowZip64\u001b[0m\u001b[0;34m=\u001b[0m\u001b[0;32mTrue\u001b[0m\u001b[0;34m)\u001b[0m\u001b[0;34m\u001b[0m\u001b[0m\n\u001b[0m\u001b[1;32m    293\u001b[0m     \u001b[0mwriter\u001b[0m \u001b[0;34m=\u001b[0m \u001b[0mExcelWriter\u001b[0m\u001b[0;34m(\u001b[0m\u001b[0mworkbook\u001b[0m\u001b[0;34m,\u001b[0m \u001b[0marchive\u001b[0m\u001b[0;34m)\u001b[0m\u001b[0;34m\u001b[0m\u001b[0m\n\u001b[1;32m    294\u001b[0m     \u001b[0mwriter\u001b[0m\u001b[0;34m.\u001b[0m\u001b[0msave\u001b[0m\u001b[0;34m(\u001b[0m\u001b[0;34m)\u001b[0m\u001b[0;34m\u001b[0m\u001b[0m\n",
            "\u001b[0;32m/usr/lib/python3.5/zipfile.py\u001b[0m in \u001b[0;36m__init__\u001b[0;34m(self, file, mode, compression, allowZip64)\u001b[0m\n\u001b[1;32m   1007\u001b[0m             \u001b[0;32mwhile\u001b[0m \u001b[0;32mTrue\u001b[0m\u001b[0;34m:\u001b[0m\u001b[0;34m\u001b[0m\u001b[0m\n\u001b[1;32m   1008\u001b[0m                 \u001b[0;32mtry\u001b[0m\u001b[0;34m:\u001b[0m\u001b[0;34m\u001b[0m\u001b[0m\n\u001b[0;32m-> 1009\u001b[0;31m                     \u001b[0mself\u001b[0m\u001b[0;34m.\u001b[0m\u001b[0mfp\u001b[0m \u001b[0;34m=\u001b[0m \u001b[0mio\u001b[0m\u001b[0;34m.\u001b[0m\u001b[0mopen\u001b[0m\u001b[0;34m(\u001b[0m\u001b[0mfile\u001b[0m\u001b[0;34m,\u001b[0m \u001b[0mfilemode\u001b[0m\u001b[0;34m)\u001b[0m\u001b[0;34m\u001b[0m\u001b[0m\n\u001b[0m\u001b[1;32m   1010\u001b[0m                 \u001b[0;32mexcept\u001b[0m \u001b[0mOSError\u001b[0m\u001b[0;34m:\u001b[0m\u001b[0;34m\u001b[0m\u001b[0m\n\u001b[1;32m   1011\u001b[0m                     \u001b[0;32mif\u001b[0m \u001b[0mfilemode\u001b[0m \u001b[0;32min\u001b[0m \u001b[0mmodeDict\u001b[0m\u001b[0;34m:\u001b[0m\u001b[0;34m\u001b[0m\u001b[0m\n",
            "\u001b[0;31mFileNotFoundError\u001b[0m: [Errno 2] No such file or directory: '/export/株式会社A.xlsx'"
          ]
        }
      ]
    },
    {
      "cell_type": "code",
      "metadata": {
        "id": "lHgQmpQWYWM9",
        "colab_type": "code",
        "colab": {}
      },
      "source": [
        ""
      ],
      "execution_count": null,
      "outputs": []
    },
    {
      "cell_type": "code",
      "metadata": {
        "id": "jV_WXRK1YWNA",
        "colab_type": "code",
        "colab": {}
      },
      "source": [
        ""
      ],
      "execution_count": null,
      "outputs": []
    },
    {
      "cell_type": "code",
      "metadata": {
        "id": "qaFrwi_DYWND",
        "colab_type": "code",
        "colab": {}
      },
      "source": [
        ""
      ],
      "execution_count": null,
      "outputs": []
    }
  ]
}