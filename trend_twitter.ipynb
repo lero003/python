{
  "nbformat": 4,
  "nbformat_minor": 0,
  "metadata": {
    "colab": {
      "name": "trend_twitter.ipynb",
      "provenance": [],
      "collapsed_sections": [],
      "authorship_tag": "ABX9TyNGrHXrNG1b/u3NvHNqJ+cl",
      "include_colab_link": true
    },
    "kernelspec": {
      "name": "python3",
      "display_name": "Python 3"
    }
  },
  "cells": [
    {
      "cell_type": "markdown",
      "metadata": {
        "id": "view-in-github",
        "colab_type": "text"
      },
      "source": [
        "<a href=\"https://colab.research.google.com/github/lero003/python/blob/master/trend_twitter.ipynb\" target=\"_parent\"><img src=\"https://colab.research.google.com/assets/colab-badge.svg\" alt=\"Open In Colab\"/></a>"
      ]
    },
    {
      "cell_type": "code",
      "metadata": {
        "id": "9Gp6_fCJPJhh",
        "colab_type": "code",
        "colab": {}
      },
      "source": [
        "# トレンド取得（1は世界、かな）\n",
        "\n",
        "import json\n",
        "from requests_oauthlib import OAuth1Session\n",
        "\n",
        "CONSUMER_KEY = ''\n",
        "CONSUMER_SECRET = ''\n",
        "ACCESS_TOKEN = ''\n",
        "ACCESS_TOKEN_SECRET = ''"
      ],
      "execution_count": null,
      "outputs": []
    },
    {
      "cell_type": "code",
      "metadata": {
        "id": "w-v4vlSyXFVl",
        "colab_type": "code",
        "colab": {}
      },
      "source": [
        "twitter = OAuth1Session(CONSUMER_KEY,CONSUMER_SECRET,ACCESS_TOKEN,ACCESS_TOKEN_SECRET)"
      ],
      "execution_count": null,
      "outputs": []
    },
    {
      "cell_type": "code",
      "metadata": {
        "id": "v3BcACmBO4Ch",
        "colab_type": "code",
        "colab": {}
      },
      "source": [
        "url = 'https://api.twitter.com/1.1/trends/place.json'"
      ],
      "execution_count": null,
      "outputs": []
    },
    {
      "cell_type": "code",
      "metadata": {
        "id": "siL4IXgzhAK5",
        "colab_type": "code",
        "colab": {}
      },
      "source": [
        "t_params = {'id':1}"
      ],
      "execution_count": null,
      "outputs": []
    },
    {
      "cell_type": "code",
      "metadata": {
        "id": "kj9-eFBWNEOc",
        "colab_type": "code",
        "colab": {}
      },
      "source": [
        "req = twitter.get(url,params = t_params)"
      ],
      "execution_count": null,
      "outputs": []
    },
    {
      "cell_type": "code",
      "metadata": {
        "id": "5uEiOI9Wzazc",
        "colab_type": "code",
        "colab": {}
      },
      "source": [
        "tweets = json.loads(req.text)"
      ],
      "execution_count": null,
      "outputs": []
    },
    {
      "cell_type": "code",
      "metadata": {
        "id": "APxn2IIO2GzT",
        "colab_type": "code",
        "colab": {
          "base_uri": "https://localhost:8080/",
          "height": 53
        },
        "outputId": "ac69226c-27a4-4e21-d50e-e03d53f3ee5d"
      },
      "source": [
        "print(type(tweets))\n",
        "print(type(req.json))"
      ],
      "execution_count": null,
      "outputs": [
        {
          "output_type": "stream",
          "text": [
            "<class 'list'>\n",
            "<class 'method'>\n"
          ],
          "name": "stdout"
        }
      ]
    },
    {
      "cell_type": "code",
      "metadata": {
        "id": "MSRnpmt9qqb1",
        "colab_type": "code",
        "colab": {
          "base_uri": "https://localhost:8080/",
          "height": 224
        },
        "outputId": "cc6d47b0-f9d0-477e-d692-06de7e9f084e"
      },
      "source": [
        "for i in req.json[\"trends\"]:\n",
        "    print(\"-----------------\")\n",
        "    print(\"keyword:\",i[\"name\"])\n",
        "    print(\"Volume:\",i[\"tweet_volume\"])"
      ],
      "execution_count": null,
      "outputs": [
        {
          "output_type": "error",
          "ename": "TypeError",
          "evalue": "ignored",
          "traceback": [
            "\u001b[0;31m---------------------------------------------------------------------------\u001b[0m",
            "\u001b[0;31mTypeError\u001b[0m                                 Traceback (most recent call last)",
            "\u001b[0;32m<ipython-input-8-651a9561e880>\u001b[0m in \u001b[0;36m<module>\u001b[0;34m()\u001b[0m\n\u001b[0;32m----> 1\u001b[0;31m \u001b[0;32mfor\u001b[0m \u001b[0mi\u001b[0m \u001b[0;32min\u001b[0m \u001b[0mreq\u001b[0m\u001b[0;34m.\u001b[0m\u001b[0mjson\u001b[0m\u001b[0;34m[\u001b[0m\u001b[0;34m\"trends\"\u001b[0m\u001b[0;34m]\u001b[0m\u001b[0;34m:\u001b[0m\u001b[0;34m\u001b[0m\u001b[0;34m\u001b[0m\u001b[0m\n\u001b[0m\u001b[1;32m      2\u001b[0m     \u001b[0mprint\u001b[0m\u001b[0;34m(\u001b[0m\u001b[0;34m\"-----------------\"\u001b[0m\u001b[0;34m)\u001b[0m\u001b[0;34m\u001b[0m\u001b[0;34m\u001b[0m\u001b[0m\n\u001b[1;32m      3\u001b[0m     \u001b[0mprint\u001b[0m\u001b[0;34m(\u001b[0m\u001b[0;34m\"keyword:\"\u001b[0m\u001b[0;34m,\u001b[0m\u001b[0mi\u001b[0m\u001b[0;34m[\u001b[0m\u001b[0;34m\"name\"\u001b[0m\u001b[0;34m]\u001b[0m\u001b[0;34m)\u001b[0m\u001b[0;34m\u001b[0m\u001b[0;34m\u001b[0m\u001b[0m\n\u001b[1;32m      4\u001b[0m     \u001b[0mprint\u001b[0m\u001b[0;34m(\u001b[0m\u001b[0;34m\"Volume:\"\u001b[0m\u001b[0;34m,\u001b[0m\u001b[0mi\u001b[0m\u001b[0;34m[\u001b[0m\u001b[0;34m\"tweet_volume\"\u001b[0m\u001b[0;34m]\u001b[0m\u001b[0;34m)\u001b[0m\u001b[0;34m\u001b[0m\u001b[0;34m\u001b[0m\u001b[0m\n",
            "\u001b[0;31mTypeError\u001b[0m: 'method' object is not subscriptable"
          ]
        }
      ]
    },
    {
      "cell_type": "code",
      "metadata": {
        "id": "aJNrNi2PM2O4",
        "colab_type": "code",
        "colab": {}
      },
      "source": [
        "# if(req.status_code == 200):\n",
        "#   tweets = json.loads(req.text)\n",
        "#   for i in tweets['trends']:\n",
        "#     print(\"-----------------\")\n",
        "#     print(\"keyword:\",i['name'])\n",
        "#     print(\"Volume:\",i['tweet_volume'])\n",
        "\n",
        "# else:\n",
        "#   print(\"err\",req.status_code)"
      ],
      "execution_count": null,
      "outputs": []
    },
    {
      "cell_type": "code",
      "metadata": {
        "id": "0g5S80LbHK9a",
        "colab_type": "code",
        "colab": {
          "base_uri": "https://localhost:8080/",
          "height": 35
        },
        "outputId": "6dc76251-ce37-46f3-a2cd-2dd8461fcdeb"
      },
      "source": [
        "req.status_code"
      ],
      "execution_count": null,
      "outputs": [
        {
          "output_type": "execute_result",
          "data": {
            "text/plain": [
              "200"
            ]
          },
          "metadata": {
            "tags": []
          },
          "execution_count": 25
        }
      ]
    },
    {
      "cell_type": "code",
      "metadata": {
        "id": "3E4crX2wLqZ8",
        "colab_type": "code",
        "colab": {
          "base_uri": "https://localhost:8080/",
          "height": 170
        },
        "outputId": "eb726d21-1738-4218-d407-96934e0ed8b8"
      },
      "source": [
        "# print(req.text[\"trends\"][\"name\"])"
      ],
      "execution_count": null,
      "outputs": [
        {
          "output_type": "error",
          "ename": "TypeError",
          "evalue": "ignored",
          "traceback": [
            "\u001b[0;31m---------------------------------------------------------------------------\u001b[0m",
            "\u001b[0;31mTypeError\u001b[0m                                 Traceback (most recent call last)",
            "\u001b[0;32m<ipython-input-64-6383a897baf7>\u001b[0m in \u001b[0;36m<module>\u001b[0;34m()\u001b[0m\n\u001b[0;32m----> 1\u001b[0;31m \u001b[0mprint\u001b[0m\u001b[0;34m(\u001b[0m\u001b[0mreq\u001b[0m\u001b[0;34m.\u001b[0m\u001b[0mtext\u001b[0m\u001b[0;34m[\u001b[0m\u001b[0;34m\"trends\"\u001b[0m\u001b[0;34m]\u001b[0m\u001b[0;34m[\u001b[0m\u001b[0;34m\"name\"\u001b[0m\u001b[0;34m]\u001b[0m\u001b[0;34m)\u001b[0m\u001b[0;34m\u001b[0m\u001b[0;34m\u001b[0m\u001b[0m\n\u001b[0m",
            "\u001b[0;31mTypeError\u001b[0m: string indices must be integers"
          ]
        }
      ]
    },
    {
      "cell_type": "code",
      "metadata": {
        "id": "JDj2VPDDpX5n",
        "colab_type": "code",
        "colab": {
          "base_uri": "https://localhost:8080/",
          "height": 1000
        },
        "outputId": "2b52a66c-bda9-4d54-c3b6-4381b83fdd2f"
      },
      "source": [
        "print(json.dumps(tweets, indent=4))"
      ],
      "execution_count": null,
      "outputs": [
        {
          "output_type": "stream",
          "text": [
            "[\n",
            "    {\n",
            "        \"trends\": [\n",
            "            {\n",
            "                \"name\": \"#MasterChef\",\n",
            "                \"url\": \"http://twitter.com/search?q=%23MasterChef\",\n",
            "                \"promoted_content\": null,\n",
            "                \"query\": \"%23MasterChef\",\n",
            "                \"tweet_volume\": 51776\n",
            "            },\n",
            "            {\n",
            "                \"name\": \"Mixer\",\n",
            "                \"url\": \"http://twitter.com/search?q=Mixer\",\n",
            "                \"promoted_content\": null,\n",
            "                \"query\": \"Mixer\",\n",
            "                \"tweet_volume\": 196518\n",
            "            },\n",
            "            {\n",
            "                \"name\": \"iOS 14\",\n",
            "                \"url\": \"http://twitter.com/search?q=%22iOS+14%22\",\n",
            "                \"promoted_content\": null,\n",
            "                \"query\": \"%22iOS+14%22\",\n",
            "                \"tweet_volume\": 167588\n",
            "            },\n",
            "            {\n",
            "                \"name\": \"NASCAR\",\n",
            "                \"url\": \"http://twitter.com/search?q=NASCAR\",\n",
            "                \"promoted_content\": null,\n",
            "                \"query\": \"NASCAR\",\n",
            "                \"tweet_volume\": 475967\n",
            "            },\n",
            "            {\n",
            "                \"name\": \"Burnley\",\n",
            "                \"url\": \"http://twitter.com/search?q=Burnley\",\n",
            "                \"promoted_content\": null,\n",
            "                \"query\": \"Burnley\",\n",
            "                \"tweet_volume\": 90407\n",
            "            },\n",
            "            {\n",
            "                \"name\": \"#PL2630Nao\",\n",
            "                \"url\": \"http://twitter.com/search?q=%23PL2630Nao\",\n",
            "                \"promoted_content\": null,\n",
            "                \"query\": \"%23PL2630Nao\",\n",
            "                \"tweet_volume\": 37631\n",
            "            },\n",
            "            {\n",
            "                \"name\": \"Batman\",\n",
            "                \"url\": \"http://twitter.com/search?q=Batman\",\n",
            "                \"promoted_content\": null,\n",
            "                \"query\": \"Batman\",\n",
            "                \"tweet_volume\": 143982\n",
            "            },\n",
            "            {\n",
            "                \"name\": \"Shaun King\",\n",
            "                \"url\": \"http://twitter.com/search?q=%22Shaun+King%22\",\n",
            "                \"promoted_content\": null,\n",
            "                \"query\": \"%22Shaun+King%22\",\n",
            "                \"tweet_volume\": 42159\n",
            "            },\n",
            "            {\n",
            "                \"name\": \"Apple\",\n",
            "                \"url\": \"http://twitter.com/search?q=Apple\",\n",
            "                \"promoted_content\": null,\n",
            "                \"query\": \"Apple\",\n",
            "                \"tweet_volume\": 703446\n",
            "            },\n",
            "            {\n",
            "                \"name\": \"Cops\",\n",
            "                \"url\": \"http://twitter.com/search?q=Cops\",\n",
            "                \"promoted_content\": null,\n",
            "                \"query\": \"Cops\",\n",
            "                \"tweet_volume\": 629911\n",
            "            },\n",
            "            {\n",
            "                \"name\": \"Ben Mee\",\n",
            "                \"url\": \"http://twitter.com/search?q=%22Ben+Mee%22\",\n",
            "                \"promoted_content\": null,\n",
            "                \"query\": \"%22Ben+Mee%22\",\n",
            "                \"tweet_volume\": 15813\n",
            "            },\n",
            "            {\n",
            "                \"name\": \"#RegresoEdomex\",\n",
            "                \"url\": \"http://twitter.com/search?q=%23RegresoEdomex\",\n",
            "                \"promoted_content\": null,\n",
            "                \"query\": \"%23RegresoEdomex\",\n",
            "                \"tweet_volume\": null\n",
            "            },\n",
            "            {\n",
            "                \"name\": \"NETFLIX ANNE 700K\",\n",
            "                \"url\": \"http://twitter.com/search?q=%22NETFLIX+ANNE+700K%22\",\n",
            "                \"promoted_content\": null,\n",
            "                \"query\": \"%22NETFLIX+ANNE+700K%22\",\n",
            "                \"tweet_volume\": 123731\n",
            "            },\n",
            "            {\n",
            "                \"name\": \"#Fase1LaChota\",\n",
            "                \"url\": \"http://twitter.com/search?q=%23Fase1LaChota\",\n",
            "                \"promoted_content\": null,\n",
            "                \"query\": \"%23Fase1LaChota\",\n",
            "                \"tweet_volume\": null\n",
            "            },\n",
            "            {\n",
            "                \"name\": \"#SomosMillonesContraUribe\",\n",
            "                \"url\": \"http://twitter.com/search?q=%23SomosMillonesContraUribe\",\n",
            "                \"promoted_content\": null,\n",
            "                \"query\": \"%23SomosMillonesContraUribe\",\n",
            "                \"tweet_volume\": null\n",
            "            },\n",
            "            {\n",
            "                \"name\": \"Ahmet A\\u011fao\\u011flu\",\n",
            "                \"url\": \"http://twitter.com/search?q=%22Ahmet+A%C4%9Fao%C4%9Flu%22\",\n",
            "                \"promoted_content\": null,\n",
            "                \"query\": \"%22Ahmet+A%C4%9Fao%C4%9Flu%22\",\n",
            "                \"tweet_volume\": 17861\n",
            "            },\n",
            "            {\n",
            "                \"name\": \"TAMO DE VUELTA ARISTEMO\",\n",
            "                \"url\": \"http://twitter.com/search?q=%22TAMO+DE+VUELTA+ARISTEMO%22\",\n",
            "                \"promoted_content\": null,\n",
            "                \"query\": \"%22TAMO+DE+VUELTA+ARISTEMO%22\",\n",
            "                \"tweet_volume\": 18378\n",
            "            },\n",
            "            {\n",
            "                \"name\": \"Foden\",\n",
            "                \"url\": \"http://twitter.com/search?q=Foden\",\n",
            "                \"promoted_content\": null,\n",
            "                \"query\": \"Foden\",\n",
            "                \"tweet_volume\": 31643\n",
            "            },\n",
            "            {\n",
            "                \"name\": \"Ninja\",\n",
            "                \"url\": \"http://twitter.com/search?q=Ninja\",\n",
            "                \"promoted_content\": null,\n",
            "                \"query\": \"Ninja\",\n",
            "                \"tweet_volume\": 138979\n",
            "            },\n",
            "            {\n",
            "                \"name\": \"Chaos\",\n",
            "                \"url\": \"http://twitter.com/search?q=Chaos\",\n",
            "                \"promoted_content\": null,\n",
            "                \"query\": \"Chaos\",\n",
            "                \"tweet_volume\": 94612\n",
            "            },\n",
            "            {\n",
            "                \"name\": \"BOCA A BOCA AMANHA NO YT\",\n",
            "                \"url\": \"http://twitter.com/search?q=%22BOCA+A+BOCA+AMANHA+NO+YT%22\",\n",
            "                \"promoted_content\": null,\n",
            "                \"query\": \"%22BOCA+A+BOCA+AMANHA+NO+YT%22\",\n",
            "                \"tweet_volume\": 38496\n",
            "            },\n",
            "            {\n",
            "                \"name\": \"Logano\",\n",
            "                \"url\": \"http://twitter.com/search?q=Logano\",\n",
            "                \"promoted_content\": null,\n",
            "                \"query\": \"Logano\",\n",
            "                \"tweet_volume\": null\n",
            "            },\n",
            "            {\n",
            "                \"name\": \"Pi\\u00f1era\",\n",
            "                \"url\": \"http://twitter.com/search?q=Pi%C3%B1era\",\n",
            "                \"promoted_content\": null,\n",
            "                \"query\": \"Pi%C3%B1era\",\n",
            "                \"tweet_volume\": 204118\n",
            "            },\n",
            "            {\n",
            "                \"name\": \"Edmonton\",\n",
            "                \"url\": \"http://twitter.com/search?q=Edmonton\",\n",
            "                \"promoted_content\": null,\n",
            "                \"query\": \"Edmonton\",\n",
            "                \"tweet_volume\": null\n",
            "            },\n",
            "            {\n",
            "                \"name\": \"Falling Down\",\n",
            "                \"url\": \"http://twitter.com/search?q=%22Falling+Down%22\",\n",
            "                \"promoted_content\": null,\n",
            "                \"query\": \"%22Falling+Down%22\",\n",
            "                \"tweet_volume\": 11713\n",
            "            },\n",
            "            {\n",
            "                \"name\": \"H-1B\",\n",
            "                \"url\": \"http://twitter.com/search?q=H-1B\",\n",
            "                \"promoted_content\": null,\n",
            "                \"query\": \"H-1B\",\n",
            "                \"tweet_volume\": 22107\n",
            "            },\n",
            "            {\n",
            "                \"name\": \"#chuvadelula\",\n",
            "                \"url\": \"http://twitter.com/search?q=%23chuvadelula\",\n",
            "                \"promoted_content\": null,\n",
            "                \"query\": \"%23chuvadelula\",\n",
            "                \"tweet_volume\": null\n",
            "            },\n",
            "            {\n",
            "                \"name\": \"#survivior2020\",\n",
            "                \"url\": \"http://twitter.com/search?q=%23survivior2020\",\n",
            "                \"promoted_content\": null,\n",
            "                \"query\": \"%23survivior2020\",\n",
            "                \"tweet_volume\": 18793\n",
            "            },\n",
            "            {\n",
            "                \"name\": \"#TachaHasMovedOn\",\n",
            "                \"url\": \"http://twitter.com/search?q=%23TachaHasMovedOn\",\n",
            "                \"promoted_content\": null,\n",
            "                \"query\": \"%23TachaHasMovedOn\",\n",
            "                \"tweet_volume\": 53422\n",
            "            },\n",
            "            {\n",
            "                \"name\": \"#gringasareoverparty\",\n",
            "                \"url\": \"http://twitter.com/search?q=%23gringasareoverparty\",\n",
            "                \"promoted_content\": null,\n",
            "                \"query\": \"%23gringasareoverparty\",\n",
            "                \"tweet_volume\": 10203\n",
            "            },\n",
            "            {\n",
            "                \"name\": \"#\\u0634\\u0645\\u0627\\u0644_\\u0627\\u0644\\u0631\\u064a\\u0627\\u0636\",\n",
            "                \"url\": \"http://twitter.com/search?q=%23%D8%B4%D9%85%D8%A7%D9%84_%D8%A7%D9%84%D8%B1%D9%8A%D8%A7%D8%B6\",\n",
            "                \"promoted_content\": null,\n",
            "                \"query\": \"%23%D8%B4%D9%85%D8%A7%D9%84_%D8%A7%D9%84%D8%B1%D9%8A%D8%A7%D8%B6\",\n",
            "                \"tweet_volume\": 21064\n",
            "            },\n",
            "            {\n",
            "                \"name\": \"#BolognaJuve\",\n",
            "                \"url\": \"http://twitter.com/search?q=%23BolognaJuve\",\n",
            "                \"promoted_content\": null,\n",
            "                \"query\": \"%23BolognaJuve\",\n",
            "                \"tweet_volume\": 19337\n",
            "            },\n",
            "            {\n",
            "                \"name\": \"#MCIBUR\",\n",
            "                \"url\": \"http://twitter.com/search?q=%23MCIBUR\",\n",
            "                \"promoted_content\": null,\n",
            "                \"query\": \"%23MCIBUR\",\n",
            "                \"tweet_volume\": 24397\n",
            "            },\n",
            "            {\n",
            "                \"name\": \"#conquis23\",\n",
            "                \"url\": \"http://twitter.com/search?q=%23conquis23\",\n",
            "                \"promoted_content\": null,\n",
            "                \"query\": \"%23conquis23\",\n",
            "                \"tweet_volume\": null\n",
            "            },\n",
            "            {\n",
            "                \"name\": \"#NuevaConstitucionParaChile\",\n",
            "                \"url\": \"http://twitter.com/search?q=%23NuevaConstitucionParaChile\",\n",
            "                \"promoted_content\": null,\n",
            "                \"query\": \"%23NuevaConstitucionParaChile\",\n",
            "                \"tweet_volume\": null\n",
            "            },\n",
            "            {\n",
            "                \"name\": \"#aleynai\\u00e7inyksertelensin\",\n",
            "                \"url\": \"http://twitter.com/search?q=%23aleynai%C3%A7inyksertelensin\",\n",
            "                \"promoted_content\": null,\n",
            "                \"query\": \"%23aleynai%C3%A7inyksertelensin\",\n",
            "                \"tweet_volume\": 56136\n",
            "            },\n",
            "            {\n",
            "                \"name\": \"#ArmyHiveParty2020\",\n",
            "                \"url\": \"http://twitter.com/search?q=%23ArmyHiveParty2020\",\n",
            "                \"promoted_content\": null,\n",
            "                \"query\": \"%23ArmyHiveParty2020\",\n",
            "                \"tweet_volume\": 14473\n",
            "            },\n",
            "            {\n",
            "                \"name\": \"#\\u30e9\\u30a4\\u30a2\\u30fc\\u30e9\\u30a4\\u30a2\\u30fc\",\n",
            "                \"url\": \"http://twitter.com/search?q=%23%E3%83%A9%E3%82%A4%E3%82%A2%E3%83%BC%E3%83%A9%E3%82%A4%E3%82%A2%E3%83%BC\",\n",
            "                \"promoted_content\": null,\n",
            "                \"query\": \"%23%E3%83%A9%E3%82%A4%E3%82%A2%E3%83%BC%E3%83%A9%E3%82%A4%E3%82%A2%E3%83%BC\",\n",
            "                \"tweet_volume\": 13025\n",
            "            },\n",
            "            {\n",
            "                \"name\": \"#GEICO500\",\n",
            "                \"url\": \"http://twitter.com/search?q=%23GEICO500\",\n",
            "                \"promoted_content\": null,\n",
            "                \"query\": \"%23GEICO500\",\n",
            "                \"tweet_volume\": null\n",
            "            },\n",
            "            {\n",
            "                \"name\": \"#KarchezQuestions\",\n",
            "                \"url\": \"http://twitter.com/search?q=%23KarchezQuestions\",\n",
            "                \"promoted_content\": null,\n",
            "                \"query\": \"%23KarchezQuestions\",\n",
            "                \"tweet_volume\": null\n",
            "            },\n",
            "            {\n",
            "                \"name\": \"#SavunmaDurduralamaz\",\n",
            "                \"url\": \"http://twitter.com/search?q=%23SavunmaDurduralamaz\",\n",
            "                \"promoted_content\": null,\n",
            "                \"query\": \"%23SavunmaDurduralamaz\",\n",
            "                \"tweet_volume\": null\n",
            "            },\n",
            "            {\n",
            "                \"name\": \"#\\u0627\\u0644\\u063a\\u0627\\u0621_\\u0627\\u0644\\u062f\\u0639\\u0645_\\u0644\\u0644\\u0645\\u0637\\u0644\\u0642\\u0627\\u062a\",\n",
            "                \"url\": \"http://twitter.com/search?q=%23%D8%A7%D9%84%D8%BA%D8%A7%D8%A1_%D8%A7%D9%84%D8%AF%D8%B9%D9%85_%D9%84%D9%84%D9%85%D8%B7%D9%84%D9%82%D8%A7%D8%AA\",\n",
            "                \"promoted_content\": null,\n",
            "                \"query\": \"%23%D8%A7%D9%84%D8%BA%D8%A7%D8%A1_%D8%A7%D9%84%D8%AF%D8%B9%D9%85_%D9%84%D9%84%D9%85%D8%B7%D9%84%D9%82%D8%A7%D8%AA\",\n",
            "                \"tweet_volume\": 16581\n",
            "            },\n",
            "            {\n",
            "                \"name\": \"#EsViolenciaPolitica\",\n",
            "                \"url\": \"http://twitter.com/search?q=%23EsViolenciaPolitica\",\n",
            "                \"promoted_content\": null,\n",
            "                \"query\": \"%23EsViolenciaPolitica\",\n",
            "                \"tweet_volume\": 17773\n",
            "            },\n",
            "            {\n",
            "                \"name\": \"#NS10v10\",\n",
            "                \"url\": \"http://twitter.com/search?q=%23NS10v10\",\n",
            "                \"promoted_content\": null,\n",
            "                \"query\": \"%23NS10v10\",\n",
            "                \"tweet_volume\": null\n",
            "            },\n",
            "            {\n",
            "                \"name\": \"#cagadanobolsonaro\",\n",
            "                \"url\": \"http://twitter.com/search?q=%23cagadanobolsonaro\",\n",
            "                \"promoted_content\": null,\n",
            "                \"query\": \"%23cagadanobolsonaro\",\n",
            "                \"tweet_volume\": null\n",
            "            },\n",
            "            {\n",
            "                \"name\": \"#ChiringuitoSoria\",\n",
            "                \"url\": \"http://twitter.com/search?q=%23ChiringuitoSoria\",\n",
            "                \"promoted_content\": null,\n",
            "                \"query\": \"%23ChiringuitoSoria\",\n",
            "                \"tweet_volume\": null\n",
            "            },\n",
            "            {\n",
            "                \"name\": \"#Zalim\\u0130stanbulVeda\",\n",
            "                \"url\": \"http://twitter.com/search?q=%23Zalim%C4%B0stanbulVeda\",\n",
            "                \"promoted_content\": null,\n",
            "                \"query\": \"%23Zalim%C4%B0stanbulVeda\",\n",
            "                \"tweet_volume\": null\n",
            "            },\n",
            "            {\n",
            "                \"name\": \"#MacriVasPreso\",\n",
            "                \"url\": \"http://twitter.com/search?q=%23MacriVasPreso\",\n",
            "                \"promoted_content\": null,\n",
            "                \"query\": \"%23MacriVasPreso\",\n",
            "                \"tweet_volume\": null\n",
            "            }\n",
            "        ],\n",
            "        \"as_of\": \"2020-06-22T23:49:34Z\",\n",
            "        \"created_at\": \"2020-06-22T23:42:26Z\",\n",
            "        \"locations\": [\n",
            "            {\n",
            "                \"name\": \"Worldwide\",\n",
            "                \"woeid\": 1\n",
            "            }\n",
            "        ]\n",
            "    }\n",
            "]\n"
          ],
          "name": "stdout"
        }
      ]
    },
    {
      "cell_type": "code",
      "metadata": {
        "id": "kb2HKfRjpcxa",
        "colab_type": "code",
        "colab": {
          "base_uri": "https://localhost:8080/",
          "height": 206
        },
        "outputId": "19c71ae1-e2fe-4e5e-eb6e-546b719489d9"
      },
      "source": [
        "t_torrend = [i.get('name') for i in tweets['trends']]\n",
        "print(t_torrend)\n",
        "\n"
      ],
      "execution_count": null,
      "outputs": [
        {
          "output_type": "error",
          "ename": "TypeError",
          "evalue": "ignored",
          "traceback": [
            "\u001b[0;31m---------------------------------------------------------------------------\u001b[0m",
            "\u001b[0;31mTypeError\u001b[0m                                 Traceback (most recent call last)",
            "\u001b[0;32m<ipython-input-58-0dbecca7d34f>\u001b[0m in \u001b[0;36m<module>\u001b[0;34m()\u001b[0m\n\u001b[0;32m----> 1\u001b[0;31m \u001b[0mt_torrend\u001b[0m \u001b[0;34m=\u001b[0m \u001b[0;34m[\u001b[0m\u001b[0mi\u001b[0m\u001b[0;34m.\u001b[0m\u001b[0mget\u001b[0m\u001b[0;34m(\u001b[0m\u001b[0;34m'name'\u001b[0m\u001b[0;34m)\u001b[0m \u001b[0;32mfor\u001b[0m \u001b[0mi\u001b[0m \u001b[0;32min\u001b[0m \u001b[0mtweets\u001b[0m\u001b[0;34m[\u001b[0m\u001b[0;34m'trends'\u001b[0m\u001b[0;34m]\u001b[0m\u001b[0;34m]\u001b[0m\u001b[0;34m\u001b[0m\u001b[0;34m\u001b[0m\u001b[0m\n\u001b[0m\u001b[1;32m      2\u001b[0m \u001b[0mprint\u001b[0m\u001b[0;34m(\u001b[0m\u001b[0mt_torrend\u001b[0m\u001b[0;34m)\u001b[0m\u001b[0;34m\u001b[0m\u001b[0;34m\u001b[0m\u001b[0m\n\u001b[1;32m      3\u001b[0m \u001b[0;34m\u001b[0m\u001b[0m\n",
            "\u001b[0;31mTypeError\u001b[0m: list indices must be integers or slices, not str"
          ]
        }
      ]
    },
    {
      "cell_type": "code",
      "metadata": {
        "id": "QVk6v4xIuLle",
        "colab_type": "code",
        "colab": {
          "base_uri": "https://localhost:8080/",
          "height": 170
        },
        "outputId": "c879a63f-f02d-444e-c2ae-c4f120289308"
      },
      "source": [
        "tweets[\"trends\"]"
      ],
      "execution_count": null,
      "outputs": [
        {
          "output_type": "error",
          "ename": "AttributeError",
          "evalue": "ignored",
          "traceback": [
            "\u001b[0;31m---------------------------------------------------------------------------\u001b[0m",
            "\u001b[0;31mAttributeError\u001b[0m                            Traceback (most recent call last)",
            "\u001b[0;32m<ipython-input-44-e8c17eef8253>\u001b[0m in \u001b[0;36m<module>\u001b[0;34m()\u001b[0m\n\u001b[0;32m----> 1\u001b[0;31m \u001b[0mtweets\u001b[0m\u001b[0;34m.\u001b[0m\u001b[0mstr\u001b[0m\u001b[0;34m[\u001b[0m\u001b[0;34m\"trends\"\u001b[0m\u001b[0;34m]\u001b[0m\u001b[0;34m\u001b[0m\u001b[0;34m\u001b[0m\u001b[0m\n\u001b[0m",
            "\u001b[0;31mAttributeError\u001b[0m: 'list' object has no attribute 'str'"
          ]
        }
      ]
    },
    {
      "cell_type": "code",
      "metadata": {
        "id": "CByGCk4ouOQa",
        "colab_type": "code",
        "colab": {}
      },
      "source": [
        ""
      ],
      "execution_count": null,
      "outputs": []
    }
  ]
}